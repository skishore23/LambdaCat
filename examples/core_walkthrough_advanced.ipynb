{
  "cells": [
    {
      "cell_type": "markdown",
      "metadata": {},
      "source": [
        "# LambdaCat Walkthrough\n",
        "\n",
        "1. Standard small categories (Terminal, Discrete, Δ³, Walking Isomorphism)\n",
        "2. Law checks for categories (identity, associativity)\n",
        "3. Functors: building and verifying laws\n",
        "4. Natural transformations: components and naturality squares\n",
        "5. Category operations: opposite category\n",
        "6. Monads and Kleisli arrows (Id, Maybe)\n",
        "7. Visualization: Mermaid diagrams for categories, functors, naturality\n",
        "\n"
      ]
    },
    {
      "cell_type": "code",
      "execution_count": null,
      "metadata": {},
      "outputs": [],
      "source": [
        "from LambdaCat.core.standard import terminal_category, discrete, simplex, walking_isomorphism\n",
        "from LambdaCat.core.laws import run_suite\n",
        "from LambdaCat.core.laws_category import CATEGORY_SUITE\n",
        "\n",
        "Term = terminal_category()\n",
        "Disc = discrete([\"A\",\"B\"]) \n",
        "Delta3 = simplex(3)\n",
        "Iso = walking_isomorphism()\n",
        "\n",
        "for C in (Term, Disc, Delta3, Iso):\n",
        "    assert run_suite(C, CATEGORY_SUITE).ok\n",
        "\n",
        "Term, Disc, Delta3, Iso\n"
      ]
    },
    {
      "cell_type": "markdown",
      "metadata": {},
      "source": [
        "## Functors\n",
        "We build a functor `F: Δ³ → Iso` that maps objects and morphisms, then verify the functor law suite.\n"
      ]
    },
    {
      "cell_type": "code",
      "execution_count": null,
      "metadata": {},
      "outputs": [],
      "source": [
        "from LambdaCat.core.functor import FunctorBuilder\n",
        "from LambdaCat.core.laws_functor import FUNCTOR_SUITE\n",
        "\n",
        "F = (FunctorBuilder('F', source=Delta3, target=Iso)\n",
        "     .on_objects({\"0\":\"A\",\"1\":\"A\",\"2\":\"B\",\"3\":\"B\"})\n",
        "     .on_morphisms({\"0->1\":\"id:A\",\"1->2\":\"f\",\"2->3\":\"id:B\",\"0->3\":\"f\"})\n",
        "     .build())\n",
        "\n",
        "report = run_suite(F, FUNCTOR_SUITE)\n",
        "print(report.to_text())\n"
      ]
    },
    {
      "cell_type": "markdown",
      "metadata": {},
      "source": [
        "## Natural transformations\n",
        "Define η: F ⇒ F with components on objects, verify component typing and commuting squares.\n"
      ]
    },
    {
      "cell_type": "code",
      "execution_count": null,
      "metadata": {},
      "outputs": [],
      "source": [
        "from LambdaCat.core.natural import Natural\n",
        "from LambdaCat.core import NATURAL_SUITE\n",
        "\n",
        "eta = Natural(source=F, target=F, components={\"0\":\"id:A\",\"1\":\"id:A\",\"2\":\"id:B\",\"3\":\"id:B\"})\n",
        "print(run_suite(eta, NATURAL_SUITE).to_text())\n"
      ]
    },
    {
      "cell_type": "code",
      "execution_count": null,
      "metadata": {},
      "outputs": [],
      "source": [
        "# Violation demo: wrong-typed component for object '1'\n",
        "bad = Natural(source=eta.source, target=eta.target, components={**eta.components, \"1\": \"f\"})\n",
        "print(run_suite(bad, NATURAL_SUITE).to_text())\n"
      ]
    },
    {
      "cell_type": "markdown",
      "metadata": {},
      "source": [
        "## Opposite category\n",
        "Construct `C^op` for Δ³ to examine dual arrows.\n"
      ]
    },
    {
      "cell_type": "code",
      "execution_count": null,
      "metadata": {},
      "outputs": [],
      "source": [
        "from LambdaCat.core.ops_category import opposite_category\n",
        "Delta3_op = opposite_category(Delta3)\n",
        "len(Delta3_op.arrows), Delta3_op.arrows[0].name\n"
      ]
    },
    {
      "cell_type": "markdown",
      "metadata": {},
      "source": [
        "## Monads and Kleisli\n",
        "Compose effectful computations with `Kleisli` for `Maybe` and `Id`.\n"
      ]
    },
    {
      "cell_type": "code",
      "execution_count": null,
      "metadata": {},
      "outputs": [],
      "source": [
        "from LambdaCat.core.fp.kleisli import Kleisli, kleisli_identity\n",
        "from LambdaCat.core.fp.instances.maybe import Maybe\n",
        "from LambdaCat.core.fp.instances.identity import Id\n",
        "\n",
        "parse_int = Kleisli(lambda s: Maybe(int(s)) if str(s).isdigit() else Maybe(None))\n",
        "recip = Kleisli(lambda n: Maybe(None) if n == 0 else Maybe(1.0 / n))\n",
        "pipe = parse_int.then(recip)\n",
        "print(pipe.run(\"12\"), pipe.run(\"oops\"))\n",
        "\n",
        "I = kleisli_identity(Id.pure)\n",
        "inc = Kleisli(lambda n: Id(n + 1))\n",
        "dbl = Kleisli(lambda n: Id(n * 2))\n",
        "print(I.run(5), inc.then(dbl).run(3))\n"
      ]
    },
    {
      "cell_type": "markdown",
      "metadata": {},
      "source": [
        "## Visualization\n",
        "Render Mermaid diagrams for categories, functors, and naturality (paste into Markdown or tools that support Mermaid).\n"
      ]
    },
    {
      "cell_type": "code",
      "execution_count": null,
      "metadata": {},
      "outputs": [],
      "source": [
        "from LambdaCat.extras.viz_mermaid import render_all\n",
        "md_map = render_all({'Delta3': Delta3, 'Iso': Iso, 'F': F, 'eta': eta}, out_dir=None)\n",
        "print(list(md_map.keys()))\n",
        "print(md_map['Delta3__category.md'][:200])\n"
      ]
    },
    {
      "cell_type": "markdown",
      "metadata": {},
      "source": [
        "## Functor composition\n",
        "Construct another functor `G: Iso → Iso` and verify that the composed functor `H = G ∘ F` satisfies the functor laws.\n"
      ]
    },
    {
      "cell_type": "code",
      "execution_count": null,
      "metadata": {},
      "outputs": [],
      "source": [
        "from LambdaCat.core.functor import CatFunctor\n",
        "# Identity-like endofunctor on Iso\n",
        "G = CatFunctor(\n",
        "    name='G', source=Iso, target=Iso,\n",
        "    object_map={'A':'A','B':'B'},\n",
        "    morphism_map={'id:A':'id:A','id:B':'id:B','f':'f','g':'g'}\n",
        ")\n",
        "# Compose by mapping F’s object/morphism images through G\n",
        "H = CatFunctor(\n",
        "    name='H', source=Delta3, target=Iso,\n",
        "    object_map={X: G.object_map[Y] for X,Y in F.object_map.items()},\n",
        "    morphism_map={m: G.morphism_map[n] for m,n in F.morphism_map.items()},\n",
        ")\n",
        "print(run_suite(H, FUNCTOR_SUITE).to_text())\n"
      ]
    },
    {
      "cell_type": "markdown",
      "metadata": {},
      "source": [
        "## Endofunctors and fixed points (sketch)\n",
        "Explore simple endofunctors on Δ³ and observe their effect on object/morphism maps.\n"
      ]
    },
    {
      "cell_type": "code",
      "execution_count": null,
      "metadata": {},
      "outputs": [],
      "source": [
        "F2 = CatFunctor(\n",
        "    name='F2', source=Delta3, target=Delta3,\n",
        "    object_map={'0':'0','1':'1','2':'2','3':'3'},\n",
        "    morphism_map={'id:0':'id:0','id:1':'id:1','id:2':'id:2','id:3':'id:3','0->1':'0->1','1->2':'1->2','2->3':'2->3','0->2':'0->2','1->3':'1->3','0->3':'0->3'}\n",
        ")\n",
        "print('F2 objects:', F2.object_map)\n",
        "print('F2 morphisms (subset):', {k: F2.morphism_map[k] for k in ['0->1','1->2','2->3']})\n"
      ]
    },
    {
      "cell_type": "markdown",
      "metadata": {},
      "source": [
        "## Advanced: Writer and State monads\n",
        "Demonstrate accumulation (Writer) and threaded state (State) with small examples; relate to algebraic effects used in proof assistants.\n"
      ]
    },
    {
      "cell_type": "code",
      "execution_count": null,
      "metadata": {},
      "outputs": [],
      "source": [
        "from LambdaCat.core.fp.instances.writer import Writer\n",
        "from LambdaCat.core.fp.typeclasses import Monoid\n",
        "\n",
        "class ListMonoid(Monoid[list[str]]):\n",
        "    def empty(self) -> list[str]:\n",
        "        return []\n",
        "    def combine(self, a: list[str], b: list[str]) -> list[str]:\n",
        "        return a + b\n",
        "\n",
        "W0 = Writer.pure(1, ListMonoid())\n",
        "W1 = W0.map(lambda x: x + 1).tell([\"inc\"]).map(lambda x: x * 2).tell([\"dbl\"]) \n",
        "print(W1.value, W1.log)\n",
        "\n",
        "from LambdaCat.core.fp.instances.state import State\n",
        "\n",
        "def push(x: int) -> State[list[int], None]:\n",
        "    return State(lambda st: (None, st + [x]))\n",
        "\n",
        "prog = State.pure(None).bind(lambda _: push(1)).bind(lambda _: push(2)).bind(lambda _: push(3))\n",
        "print(prog.run([]))\n"
      ]
    },
    {
      "cell_type": "markdown",
      "metadata": {},
      "source": [
        "## Advanced: Agent-aligned category examples (no runtime)\n",
        "Model reversible transformations via functors into the walking isomorphism; sketch how these correspond to invertible steps in pipelines.\n"
      ]
    },
    {
      "cell_type": "code",
      "execution_count": null,
      "metadata": {},
      "outputs": [],
      "source": [
        "from LambdaCat.core.functor import FunctorBuilder\n",
        "# Functor mapping an abstract two-step flow (0->1->2) to an isomorphism\n",
        "D2 = simplex(2)\n",
        "Fiso = (FunctorBuilder('Fiso', source=D2, target=Iso)\n",
        "        .on_objects({'0':'A','1':'B','2':'A'})\n",
        "        .on_morphisms({'0->1':'f','1->2':'g','0->2':'id:A'})\n",
        "        .build())\n",
        "print(run_suite(Fiso, FUNCTOR_SUITE).to_text())\n"
      ]
    }
  ],
  "metadata": {
    "kernelspec": {
      "display_name": ".venv",
      "language": "python",
      "name": "python3"
    },
    "language_info": {
      "codemirror_mode": {
        "name": "ipython",
        "version": 3
      },
      "file_extension": ".py",
      "mimetype": "text/x-python",
      "name": "python",
      "nbconvert_exporter": "python",
      "pygments_lexer": "ipython3",
      "version": "3.12.8"
    }
  },
  "nbformat": 4,
  "nbformat_minor": 2
}
