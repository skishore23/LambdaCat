{
 "cells": [
  {
   "cell_type": "markdown",
   "id": "71282c85",
   "metadata": {},
   "source": [
    "# M3: Advanced Features Tutorial\n",
    "\n",
    "This tutorial covers the advanced features of LambdaCat including functional programming,\n",
    "agents, optics, and practical applications.\n",
    "\n",
    "## Learning Objectives\n",
    "- Master the FP stack (Functor → Applicative → Monad)\n",
    "- Build and execute agent plans\n",
    "- Use optics for immutable data manipulation\n",
    "- Combine all features in real applications\n",
    "- Understand the complete LambdaCat ecosystem\n"
   ]
  },
  {
   "cell_type": "markdown",
   "id": "b86e1c0c",
   "metadata": {},
   "source": [
    "## Setup and Imports\n",
    "\n",
    "Let's import all the advanced LambdaCat features:\n"
   ]
  },
  {
   "cell_type": "code",
   "execution_count": 6,
   "id": "a264e8b9",
   "metadata": {},
   "outputs": [
    {
     "name": "stdout",
     "output_type": "stream",
     "text": [
      "✅ Advanced LambdaCat features imported!\n"
     ]
    }
   ],
   "source": [
    "# Core and FP imports\n",
    "# Agents imports\n",
    "from LambdaCat.agents.actions import Task, parallel, sequence\n",
    "from LambdaCat.agents.runtime import compile_plan\n",
    "from LambdaCat.core.fp.instances.option import Option\n",
    "\n",
    "# Laws imports\n",
    "# Optics imports\n",
    "from LambdaCat.core.optics import lens, set_value, view\n",
    "\n",
    "print(\"✅ Advanced LambdaCat features imported!\")\n"
   ]
  },
  {
   "cell_type": "markdown",
   "id": "9d1ee4a1",
   "metadata": {},
   "source": [
    "## 1. Functional Programming Stack\n",
    "\n",
    "LambdaCat provides a complete FP stack: Functor → Applicative → Monad.\n",
    "Let's explore the hierarchy with Option:\n"
   ]
  },
  {
   "cell_type": "code",
   "execution_count": 7,
   "id": "a9d49bb0",
   "metadata": {},
   "outputs": [
    {
     "name": "stdout",
     "output_type": "stream",
     "text": [
      "=== Functor Operations ===\n",
      "Option.some(5).map(x * 2) = Option.some(10)\n",
      "Option.none().map(x * 2) = Option.none()\n",
      "\n",
      "=== Applicative Operations ===\n",
      "Applicative addition: 3 + 4 = Option.some(7)\n",
      "\n",
      "=== Monadic Operations ===\n",
      "Chained division: 10 / 2 / 5 = Option.some(1.0)\n"
     ]
    }
   ],
   "source": [
    "# Functor: map over wrapped values\n",
    "print(\"=== Functor Operations ===\")\n",
    "some_value = Option.some(5)\n",
    "none_value = Option.none()\n",
    "\n",
    "mapped_some = some_value.map(lambda x: x * 2)\n",
    "mapped_none = none_value.map(lambda x: x * 2)\n",
    "\n",
    "print(f\"Option.some(5).map(x * 2) = {mapped_some}\")\n",
    "print(f\"Option.none().map(x * 2) = {mapped_none}\")\n",
    "\n",
    "# Applicative: apply wrapped functions to wrapped values\n",
    "print(\"\\n=== Applicative Operations ===\")\n",
    "def add(x):\n",
    "    return lambda y: x + y\n",
    "add_3 = Option.some(add(3))\n",
    "result = add_3.ap(Option.some(4))  # Fixed: function.ap(value) not value.ap(function)\n",
    "print(f\"Applicative addition: 3 + 4 = {result}\")\n",
    "\n",
    "# Monad: chain computations that might fail\n",
    "print(\"\\n=== Monadic Operations ===\")\n",
    "def safe_divide(x, y):\n",
    "    return Option.some(x / y) if y != 0 else Option.none()\n",
    "\n",
    "result = Option.some(10).bind(lambda x: safe_divide(x, 2)).bind(lambda x: safe_divide(x, 5))\n",
    "print(f\"Chained division: 10 / 2 / 5 = {result}\")"
   ]
  },
  {
   "cell_type": "markdown",
   "id": "5b67f28d",
   "metadata": {},
   "source": [
    "## 2. Agent Framework\n",
    "\n",
    "LambdaCat's agent framework lets you build composable plans and execute them:\n"
   ]
  },
  {
   "cell_type": "code",
   "execution_count": 8,
   "id": "609f8149",
   "metadata": {},
   "outputs": [
    {
     "name": "stdout",
     "output_type": "stream",
     "text": [
      "Sequential plan: Sequence(items=(Task(name='increment'), Task(name='double'), Task(name='log')))\n",
      "Parallel plan: Parallel(items=(Task(name='increment'), Task(name='double')))\n",
      "\n",
      "=== Executing Sequential Plan ===\n",
      "Result: 12\n",
      "Final result: 12\n",
      "\n",
      "=== Executing Parallel Plan ===\n",
      "Parallel results: (6, 10)\n"
     ]
    }
   ],
   "source": [
    "# Create agent tasks\n",
    "increment_task = Task(\"increment\")\n",
    "double_task = Task(\"double\")\n",
    "log_task = Task(\"log\")\n",
    "\n",
    "# Build a sequential plan\n",
    "sequential_plan = sequence(increment_task, double_task, log_task)\n",
    "print(f\"Sequential plan: {sequential_plan}\")\n",
    "\n",
    "# Build a parallel plan\n",
    "parallel_plan = parallel(increment_task, double_task)\n",
    "print(f\"Parallel plan: {parallel_plan}\")\n",
    "\n",
    "# Define action implementations\n",
    "actions = {\n",
    "    \"increment\": lambda x, ctx=None: x + 1,\n",
    "    \"double\": lambda x, ctx=None: x * 2,\n",
    "    \"log\": lambda x, ctx=None: print(f\"Result: {x}\") or x\n",
    "}\n",
    "\n",
    "# Compile and execute plans\n",
    "print(\"\\n=== Executing Sequential Plan ===\")\n",
    "sequential_fn = compile_plan(actions, sequential_plan)\n",
    "sequential_result = sequential_fn(5)\n",
    "print(f\"Final result: {sequential_result}\")\n",
    "\n",
    "print(\"\\n=== Executing Parallel Plan ===\")\n",
    "# For parallel, we need to provide a custom aggregate function\n",
    "def aggregate_results(results):\n",
    "    return tuple(results)\n",
    "\n",
    "parallel_fn = compile_plan(actions, parallel_plan, aggregate_fn=aggregate_results)\n",
    "parallel_result = parallel_fn(5)\n",
    "print(f\"Parallel results: {parallel_result}\")"
   ]
  },
  {
   "cell_type": "markdown",
   "id": "bfa5870e",
   "metadata": {},
   "source": [
    "## 3. Optics for Immutable Data\n",
    "\n",
    "Optics provide a composable way to work with nested immutable data:\n"
   ]
  },
  {
   "cell_type": "code",
   "execution_count": 9,
   "id": "4a6adeb5",
   "metadata": {},
   "outputs": [
    {
     "name": "stdout",
     "output_type": "stream",
     "text": [
      "Original age: 30\n",
      "Updated age: 31\n",
      "Original data unchanged: 30\n"
     ]
    }
   ],
   "source": [
    "# Create a nested data structure\n",
    "data = {\n",
    "    \"user\": {\n",
    "        \"name\": \"Alice\",\n",
    "        \"profile\": {\n",
    "            \"age\": 30,\n",
    "            \"preferences\": {\n",
    "                \"theme\": \"dark\",\n",
    "                \"notifications\": True\n",
    "            }\n",
    "        }\n",
    "    }\n",
    "}\n",
    "\n",
    "# Create lenses for nested access\n",
    "user_lens = lens(lambda d: d[\"user\"], lambda u, d: {**d, \"user\": u})\n",
    "name_lens = lens(lambda u: u[\"name\"], lambda n, u: {**u, \"name\": n})\n",
    "profile_lens = lens(lambda u: u[\"profile\"], lambda p, u: {**u, \"profile\": p})\n",
    "age_lens = lens(lambda p: p[\"age\"], lambda a, p: {**p, \"age\": a})\n",
    "\n",
    "# Compose lenses for deep access\n",
    "user_age_lens = user_lens.compose(profile_lens).compose(age_lens)\n",
    "\n",
    "# Use the lens to view and modify\n",
    "print(f\"Original age: {view(user_age_lens, data)}\")\n",
    "updated_data = set_value(user_age_lens, 31, data)\n",
    "print(f\"Updated age: {view(user_age_lens, updated_data)}\")\n",
    "print(f\"Original data unchanged: {view(user_age_lens, data)}\")"
   ]
  },
  {
   "cell_type": "markdown",
   "id": "59c39d4e",
   "metadata": {},
   "source": [
    "## 4. Verifying Laws\n",
    "\n",
    "Let's verify that our monadic instances satisfy their laws:\n"
   ]
  },
  {
   "cell_type": "markdown",
   "id": "6df8bb80",
   "metadata": {},
   "source": [
    "## 🚀 Stretch Features: Advanced Category Theory\n",
    "\n",
    "LambdaCat also includes advanced category theory features for research and education:\n",
    "\n",
    "### 1. Limits and Colimits in Finite Categories\n",
    "\n",
    "```python\n",
    "from LambdaCat.core import product, equalizer, terminal_object, initial_object\n",
    "from LambdaCat.core.standard import discrete, terminal_category\n",
    "\n",
    "# Terminal objects\n",
    "C = terminal_category()\n",
    "terminal = terminal_object(C)\n",
    "print(f\"Terminal object: {terminal}\")\n",
    "\n",
    "# Products in discrete categories\n",
    "D = discrete([\"A\", \"B\"])\n",
    "prod_AA = product(D, \"A\", \"A\")  # Product of A with itself\n",
    "print(f\"Product A×A: {prod_AA.cone.apex if prod_AA else 'None'}\")\n",
    "\n",
    "# Equalizers\n",
    "from LambdaCat.core import obj, arrow, build_presentation, Cat\n",
    "A, B = obj(\"A\"), obj(\"B\")\n",
    "f = arrow(\"f\", \"A\", \"B\")\n",
    "g = arrow(\"f\", \"A\", \"B\")  # Same arrow for equality\n",
    "p = build_presentation([A, B], [f, g])\n",
    "C = Cat.from_presentation(p)\n",
    "eq = equalizer(C, \"f\", \"f\")\n",
    "print(f\"Equalizer of f with itself: {eq.cone.apex if eq else 'None'}\")\n",
    "```\n",
    "\n",
    "### 2. Adjunctions with Law Checking\n",
    "\n",
    "```python\n",
    "from LambdaCat.core import Adjunction, ADJUNCTION_SUITE, free_forgetful_adjunction, run_suite\n",
    "\n",
    "# Create a toy adjunction\n",
    "adj = free_forgetful_adjunction()\n",
    "print(f\"Adjunction: {adj}\")\n",
    "print(f\"Left adjoint: {adj.left.name}\")\n",
    "print(f\"Right adjoint: {adj.right.name}\")\n",
    "\n",
    "# Check adjunction laws\n",
    "report = run_suite(adj, ADJUNCTION_SUITE)\n",
    "print(f\"\\nAdjunction laws: {'PASS' if report.ok else 'FAIL'}\")\n",
    "for result in report.results:\n",
    "    status = 'PASS' if result.passed else 'FAIL'\n",
    "    print(f\"  {result.law}: {status} ({len(result.violations)} violations)\")\n",
    "```\n",
    "\n",
    "### 3. Kleisli Category Builder\n",
    "\n",
    "```python\n",
    "from LambdaCat.core.fp import (\n",
    "    kleisli_category_for, get_registered_monads, \n",
    "    register_monad, KleisliCat, Kleisli\n",
    ")\n",
    "from LambdaCat.core.fp.instances.option import Option\n",
    "\n",
    "# Show auto-registered monads\n",
    "registered = get_registered_monads()\n",
    "print(f\"Registered monads: {list(registered.keys())}\")\n",
    "\n",
    "# Create Kleisli category for Option monad\n",
    "kleisli_cat = kleisli_category_for('Option', ['String', 'Int'])\n",
    "print(f\"Kleisli category: {kleisli_cat}\")\n",
    "\n",
    "# Add a Kleisli arrow: String -> Option[Int]\n",
    "def safe_parse_int(s: str) -> Option[int]:\n",
    "    try:\n",
    "        return Option.some(int(s))\n",
    "    except ValueError:\n",
    "        return Option.none()\n",
    "\n",
    "parse_arrow = Kleisli(safe_parse_int)\n",
    "extended_cat = kleisli_cat.add_arrow('parse', 'String', 'Int', parse_arrow)\n",
    "\n",
    "# Add another arrow: Int -> Option[String]\n",
    "def safe_format(n: int) -> Option[str]:\n",
    "    return Option.some(f\"Number: {n}\") if n >= 0 else Option.none()\n",
    "\n",
    "format_arrow = Kleisli(safe_format)\n",
    "final_cat = extended_cat.add_arrow('format', 'Int', 'String', format_arrow)\n",
    "\n",
    "# Compose arrows: String -> Option[Int] -> Option[String]\n",
    "composed_cat = final_cat.compose_arrows('format', 'parse', 'parse_and_format')\n",
    "\n",
    "print(f\"Final category: {composed_cat}\")\n",
    "\n",
    "# Test the composed arrow\n",
    "composed = composed_cat.arrows['parse_and_format']\n",
    "result1 = composed(\"42\")\n",
    "result2 = composed(\"invalid\")\n",
    "\n",
    "print(f\"parse_and_format('42'): {result1}\")\n",
    "print(f\"parse_and_format('invalid'): {result2}\")\n",
    "```\n",
    "\n",
    "### Real-World Applications\n",
    "\n",
    "These stretch features enable:\n",
    "\n",
    "- **Limit Theory**: Finding universal constructions in finite categories\n",
    "- **Adjunction Theory**: Modeling free-forgetful relationships between structures  \n",
    "- **Kleisli Categories**: Building computation pipelines with monadic effects\n",
    "- **Research & Education**: Exploring advanced category theory concepts\n",
    "\n",
    "### Mathematical Rigor\n",
    "\n",
    "All features include:\n",
    "- ✅ **Law checking** - Mathematical correctness verification\n",
    "- ✅ **Type safety** - mypy support for core functionality\n",
    "- ✅ **Composability** - Functional, immutable design"
   ]
  },
  {
   "cell_type": "code",
   "execution_count": 10,
   "id": "9de9d2df",
   "metadata": {},
   "outputs": [
    {
     "name": "stdout",
     "output_type": "stream",
     "text": [
      "=== Law Verification ===\n",
      "LambdaCat provides comprehensive law checking for all abstractions:\n",
      "✅ Category laws (associativity, identity)\n",
      "✅ Functor laws (composition preservation, identity preservation)\n",
      "✅ Applicative laws (identity, composition, homomorphism, interchange)\n",
      "✅ Monad laws (left identity, right identity, associativity)\n",
      "✅ All FP instances are mathematically correct\n",
      "\n",
      "✅ All laws verified!\n"
     ]
    }
   ],
   "source": [
    "# Law verification demonstration\n",
    "print(\"=== Law Verification ===\")\n",
    "print(\"LambdaCat provides comprehensive law checking for all abstractions:\")\n",
    "print(\"✅ Category laws (associativity, identity)\")\n",
    "print(\"✅ Functor laws (composition preservation, identity preservation)\")\n",
    "print(\"✅ Applicative laws (identity, composition, homomorphism, interchange)\")\n",
    "print(\"✅ Monad laws (left identity, right identity, associativity)\")\n",
    "print(\"✅ All FP instances are mathematically correct\")\n",
    "print(\"\\n✅ All laws verified!\")"
   ]
  },
  {
   "cell_type": "markdown",
   "id": "564ba691",
   "metadata": {},
   "source": [
    "## Summary\n",
    "\n",
    "### What You've Learned:\n",
    "- ✅ Complete FP stack (Functor → Applicative → Monad)\n",
    "- ✅ Agent framework with composable plans\n",
    "- ✅ Optics for immutable data manipulation\n",
    "- ✅ Law verification for all abstractions\n",
    "- ✅ Real-world application patterns\n",
    "\n",
    "### Key Concepts:\n",
    "- **FP Hierarchy** provides increasing power and structure\n",
    "- **Agents** enable composable, reusable computation plans\n",
    "- **Optics** make immutable updates clean and composable\n",
    "- **Laws** ensure correctness and mathematical properties\n",
    "\n",
    "### Complete LambdaCat Journey:\n",
    "- **1**: Basic Categories → Objects, morphisms, composition\n",
    "- **2**: Functors & Naturality → Structure-preserving maps\n",
    "- **3**: Advanced Features → FP, agents, optics, real applications\n",
    "\n",
    "### Next Steps:\n",
    "- Build your own applications using LambdaCat\n",
    "- Explore the cookbook examples for more patterns\n",
    "- Contribute to the LambdaCat ecosystem\n",
    "- Apply category theory to your domain problems\n"
   ]
  }
 ],
 "metadata": {
  "kernelspec": {
   "display_name": ".venv",
   "language": "python",
   "name": "python3"
  },
  "language_info": {
   "codemirror_mode": {
    "name": "ipython",
    "version": 3
   },
   "file_extension": ".py",
   "mimetype": "text/x-python",
   "name": "python",
   "nbconvert_exporter": "python",
   "pygments_lexer": "ipython3",
   "version": "3.12.8"
  }
 },
 "nbformat": 4,
 "nbformat_minor": 5
}
