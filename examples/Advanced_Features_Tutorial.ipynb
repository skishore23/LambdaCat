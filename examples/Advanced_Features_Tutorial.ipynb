{
 "cells": [
  {
   "cell_type": "markdown",
   "id": "71282c85",
   "metadata": {},
   "source": [
    "# Advanced Features Tutorial\n",
    "\n",
    "Learn about functional programming, agents, and optics in LambdaCat."
   ]
  },
  {
   "cell_type": "markdown",
   "id": "b86e1c0c",
   "metadata": {},
   "source": [
    "## Setup"
   ]
  },
  {
   "cell_type": "code",
   "execution_count": 11,
   "id": "a264e8b9",
   "metadata": {},
   "outputs": [
    {
     "name": "stdout",
     "output_type": "stream",
     "text": [
      "Advanced features loaded\n"
     ]
    }
   ],
   "source": [
    "from LambdaCat.agents.actions import Task, parallel, sequence\n",
    "from LambdaCat.agents.runtime import compile_plan\n",
    "from LambdaCat.core.fp.instances.option import Option\n",
    "from LambdaCat.core.optics import lens, set_value, view\n",
    "\n",
    "print(\"Advanced features loaded\")"
   ]
  },
  {
   "cell_type": "markdown",
   "id": "9d1ee4a1",
   "metadata": {},
   "source": [
    "## 1. Functional Programming Stack\n",
    "\n",
    "LambdaCat provides Functor → Applicative → Monad hierarchy:"
   ]
  },
  {
   "cell_type": "code",
   "execution_count": 12,
   "id": "a9d49bb0",
   "metadata": {},
   "outputs": [
    {
     "name": "stdout",
     "output_type": "stream",
     "text": [
      "=== Functor ===\n",
      "Option.some(5).map(x * 2) = Option.some(10)\n",
      "Option.none().map(x * 2) = Option.none()\n",
      "\n",
      "=== Applicative ===\n",
      "3 + 4 = Option.some(7)\n",
      "\n",
      "=== Monad ===\n",
      "10 / 2 / 5 = Option.some(1.0)\n"
     ]
    }
   ],
   "source": [
    "# Functor: map over wrapped values\n",
    "print(\"=== Functor ===\")\n",
    "some_value = Option.some(5)\n",
    "none_value = Option.none()\n",
    "\n",
    "mapped_some = some_value.map(lambda x: x * 2)\n",
    "mapped_none = none_value.map(lambda x: x * 2)\n",
    "\n",
    "print(f\"Option.some(5).map(x * 2) = {mapped_some}\")\n",
    "print(f\"Option.none().map(x * 2) = {mapped_none}\")\n",
    "\n",
    "# Applicative: apply wrapped functions\n",
    "print(\"\\n=== Applicative ===\")\n",
    "def add(x):\n",
    "    return lambda y: x + y\n",
    "add_3 = Option.some(add(3))\n",
    "result = add_3.ap(Option.some(4))\n",
    "print(f\"3 + 4 = {result}\")\n",
    "\n",
    "# Monad: chain computations\n",
    "print(\"\\n=== Monad ===\")\n",
    "def safe_divide(x, y):\n",
    "    return Option.some(x / y) if y != 0 else Option.none()\n",
    "\n",
    "result = Option.some(10).bind(lambda x: safe_divide(x, 2)).bind(lambda x: safe_divide(x, 5))\n",
    "print(f\"10 / 2 / 5 = {result}\")"
   ]
  },
  {
   "cell_type": "markdown",
   "id": "5b67f28d",
   "metadata": {},
   "source": [
    "## 2. Agent Framework\n",
    "\n",
    "Build composable execution plans:"
   ]
  },
  {
   "cell_type": "code",
   "execution_count": 13,
   "id": "609f8149",
   "metadata": {},
   "outputs": [
    {
     "name": "stdout",
     "output_type": "stream",
     "text": [
      "Sequential plan: Sequence(items=(Task(name='increment'), Task(name='double'), Task(name='log')))\n",
      "Parallel plan: Parallel(items=(Task(name='increment'), Task(name='double')))\n",
      "\n",
      "=== Executing Sequential Plan ===\n",
      "Result: 12\n",
      "Final result: 12\n",
      "\n",
      "=== Executing Parallel Plan ===\n",
      "Parallel results: (6, 10)\n"
     ]
    }
   ],
   "source": [
    "# Create agent tasks\n",
    "increment_task = Task(\"increment\")\n",
    "double_task = Task(\"double\")\n",
    "log_task = Task(\"log\")\n",
    "\n",
    "# Build a sequential plan\n",
    "sequential_plan = sequence(increment_task, double_task, log_task)\n",
    "print(f\"Sequential plan: {sequential_plan}\")\n",
    "\n",
    "# Build a parallel plan\n",
    "parallel_plan = parallel(increment_task, double_task)\n",
    "print(f\"Parallel plan: {parallel_plan}\")\n",
    "\n",
    "# Define action implementations\n",
    "actions = {\n",
    "    \"increment\": lambda x, ctx=None: x + 1,\n",
    "    \"double\": lambda x, ctx=None: x * 2,\n",
    "    \"log\": lambda x, ctx=None: print(f\"Result: {x}\") or x\n",
    "}\n",
    "\n",
    "# Compile and execute plans\n",
    "print(\"\\n=== Executing Sequential Plan ===\")\n",
    "sequential_fn = compile_plan(actions, sequential_plan)\n",
    "sequential_result = sequential_fn(5)\n",
    "print(f\"Final result: {sequential_result}\")\n",
    "\n",
    "print(\"\\n=== Executing Parallel Plan ===\")\n",
    "# For parallel, we need to provide a custom aggregate function\n",
    "def aggregate_results(results):\n",
    "    return tuple(results)\n",
    "\n",
    "parallel_fn = compile_plan(actions, parallel_plan, aggregate_fn=aggregate_results)\n",
    "parallel_result = parallel_fn(5)\n",
    "print(f\"Parallel results: {parallel_result}\")"
   ]
  },
  {
   "cell_type": "markdown",
   "id": "bfa5870e",
   "metadata": {},
   "source": [
    "## 3. Optics for Immutable Data\n",
    "\n",
    "Lenses for nested access and updates:"
   ]
  },
  {
   "cell_type": "code",
   "execution_count": 14,
   "id": "4a6adeb5",
   "metadata": {},
   "outputs": [
    {
     "name": "stdout",
     "output_type": "stream",
     "text": [
      "Original age: 30\n",
      "Updated age: 31\n",
      "Original data unchanged: 30\n"
     ]
    }
   ],
   "source": [
    "# Create a nested data structure\n",
    "data = {\n",
    "    \"user\": {\n",
    "        \"name\": \"Alice\",\n",
    "        \"profile\": {\n",
    "            \"age\": 30,\n",
    "            \"preferences\": {\n",
    "                \"theme\": \"dark\",\n",
    "                \"notifications\": True\n",
    "            }\n",
    "        }\n",
    "    }\n",
    "}\n",
    "\n",
    "# Create lenses for nested access\n",
    "user_lens = lens(lambda d: d[\"user\"], lambda u, d: {**d, \"user\": u})\n",
    "name_lens = lens(lambda u: u[\"name\"], lambda n, u: {**u, \"name\": n})\n",
    "profile_lens = lens(lambda u: u[\"profile\"], lambda p, u: {**u, \"profile\": p})\n",
    "age_lens = lens(lambda p: p[\"age\"], lambda a, p: {**p, \"age\": a})\n",
    "\n",
    "# Compose lenses for deep access\n",
    "user_age_lens = user_lens.compose(profile_lens).compose(age_lens)\n",
    "\n",
    "# Use the lens to view and modify\n",
    "print(f\"Original age: {view(user_age_lens, data)}\")\n",
    "updated_data = set_value(user_age_lens, 31, data)\n",
    "print(f\"Updated age: {view(user_age_lens, updated_data)}\")\n",
    "print(f\"Original data unchanged: {view(user_age_lens, data)}\")"
   ]
  },
  {
   "cell_type": "markdown",
   "id": "59c39d4e",
   "metadata": {},
   "source": [
    "## 4. Law Verification\n",
    "\n",
    "All abstractions are mathematically correct:"
   ]
  },
  {
   "cell_type": "markdown",
   "id": "6df8bb80",
   "metadata": {},
   "source": [
    "## Advanced Features\n",
    "\n",
    "LambdaCat includes advanced category theory features:\n",
    "\n",
    "### Limits and Colimits\n",
    "\n",
    "```python\n",
    "from LambdaCat.core import product, equalizer, terminal_object\n",
    "from LambdaCat.core.standard import discrete, terminal_category\n",
    "\n",
    "# Terminal objects\n",
    "C = terminal_category()\n",
    "terminal = terminal_object(C)\n",
    "print(f\"Terminal object: {terminal}\")\n",
    "\n",
    "# Products in discrete categories  \n",
    "D = discrete([\"A\", \"B\"])\n",
    "prod_AA = product(D, \"A\", \"A\")\n",
    "print(f\"Product A×A: {prod_AA.cone.apex if prod_AA else 'None'}\")\n",
    "```\n",
    "\n",
    "### Adjunctions\n",
    "\n",
    "```python\n",
    "from LambdaCat.core import ADJUNCTION_SUITE, free_forgetful_adjunction, run_suite\n",
    "\n",
    "adj = free_forgetful_adjunction()\n",
    "report = run_suite(adj, ADJUNCTION_SUITE)\n",
    "print(f\"Adjunction laws: {'PASS' if report.ok else 'FAIL'}\")\n",
    "```\n",
    "\n",
    "### Kleisli Categories\n",
    "\n",
    "```python\n",
    "from LambdaCat.core.fp import kleisli_category_for, Kleisli\n",
    "\n",
    "# Create Kleisli category for Option monad\n",
    "kleisli_cat = kleisli_category_for('Option', ['String', 'Int'])\n",
    "\n",
    "def safe_parse_int(s: str) -> Option[int]:\n",
    "    try:\n",
    "        return Option.some(int(s))\n",
    "    except ValueError:\n",
    "        return Option.none()\n",
    "\n",
    "parse_arrow = Kleisli(safe_parse_int)\n",
    "extended_cat = kleisli_cat.add_arrow('parse', 'String', 'Int', parse_arrow)\n",
    "```\n",
    "\n",
    "All features include law checking and type safety."
   ]
  },
  {
   "cell_type": "code",
   "execution_count": 15,
   "id": "9de9d2df",
   "metadata": {},
   "outputs": [
    {
     "name": "stdout",
     "output_type": "stream",
     "text": [
      "Laws verified:\n",
      "• Category laws (associativity, identity)\n",
      "• Functor laws (composition, identity)\n",
      "• Applicative laws (identity, composition, homomorphism)\n",
      "• Monad laws (left identity, right identity, associativity)\n",
      "• All instances are mathematically correct\n"
     ]
    }
   ],
   "source": [
    "# All LambdaCat abstractions are law-checked\n",
    "print(\"Laws verified:\")\n",
    "print(\"• Category laws (associativity, identity)\")\n",
    "print(\"• Functor laws (composition, identity)\")\n",
    "print(\"• Applicative laws (identity, composition, homomorphism)\")\n",
    "print(\"• Monad laws (left identity, right identity, associativity)\")\n",
    "print(\"• All instances are mathematically correct\")"
   ]
  },
  {
   "cell_type": "markdown",
   "id": "564ba691",
   "metadata": {},
   "source": [
    "## Summary\n",
    "\n",
    "**What you learned:**\n",
    "- Complete FP stack (Functor → Applicative → Monad)\n",
    "- Agent framework with composable plans\n",
    "- Optics for immutable data manipulation\n",
    "- Law verification for all abstractions\n",
    "\n",
    "**Key concepts:**\n",
    "- FP hierarchy provides increasing power and structure\n",
    "- Agents enable composable, reusable computation plans\n",
    "- Optics make immutable updates clean and composable\n",
    "- Laws ensure correctness and mathematical properties\n",
    "\n",
    "**LambdaCat tutorials:**\n",
    "1. Basic Categories → Objects, morphisms, composition\n",
    "2. Functors & Naturality → Structure-preserving maps  \n",
    "3. Advanced Features → FP, agents, optics\n",
    "\n",
    "Ready to build real applications with category theory!"
   ]
  }
 ],
 "metadata": {
  "kernelspec": {
   "display_name": ".venv",
   "language": "python",
   "name": "python3"
  },
  "language_info": {
   "codemirror_mode": {
    "name": "ipython",
    "version": 3
   },
   "file_extension": ".py",
   "mimetype": "text/x-python",
   "name": "python",
   "nbconvert_exporter": "python",
   "pygments_lexer": "ipython3",
   "version": "3.12.8"
  }
 },
 "nbformat": 4,
 "nbformat_minor": 5
}
