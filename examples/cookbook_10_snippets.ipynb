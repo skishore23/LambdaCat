{
 "cells": [
  {
   "cell_type": "markdown",
   "metadata": {},
   "source": "# LambdaCat Cookbook\n\nWorking examples of core LambdaCat features.\nEach example can be run independently.\n\n## Setup\n\nImport the necessary modules:"
  },
  {
   "cell_type": "code",
   "execution_count": null,
   "metadata": {},
   "outputs": [],
   "source": "from LambdaCat.agents.actions import Task, parallel, sequence\nfrom LambdaCat.agents.runtime import compile_plan, compile_to_kleisli\nfrom LambdaCat.core import arrow, build_presentation, obj\nfrom LambdaCat.core.category import Cat\nfrom LambdaCat.core.diagram import Diagram\nfrom LambdaCat.core.fp.instances.option import Option\nfrom LambdaCat.core.fp.instances.reader import Reader\nfrom LambdaCat.core.fp.instances.result import Result\nfrom LambdaCat.core.fp.instances.state import State\nfrom LambdaCat.core.fp.instances.writer import Writer\nfrom LambdaCat.core.fp.kleisli import Kleisli\nfrom LambdaCat.core.ops_category import check_commutativity\nfrom LambdaCat.core.optics import Lens\n\nprint(\"LambdaCat modules imported\")"
  },
  {
   "cell_type": "markdown",
   "metadata": {},
   "source": [
    "## Snippet 1: Writer Logging\n",
    "\n",
    "Log accumulation with monoid"
   ]
  },
  {
   "cell_type": "code",
   "execution_count": null,
   "metadata": {},
   "outputs": [],
   "source": [
    "# Create a monoid for log accumulation\n",
    "class StringMonoid:\n",
    "    def empty(self):\n",
    "        return \"\"\n",
    "    def combine(self, a, b):\n",
    "        return a + b\n",
    "\n",
    "# Create monoid instance\n",
    "string_monoid = StringMonoid()\n",
    "\n",
    "# Logged computation\n",
    "def increment_logged(x):\n",
    "    return Writer(x + 1, f\"Incremented {x} to {x + 1}\\n\", string_monoid)\n",
    "\n",
    "def double_logged(x):\n",
    "    return Writer(x * 2, f\"Doubled {x} to {x * 2}\\n\", string_monoid)\n",
    "\n",
    "# Compose with logging\n",
    "result = increment_logged(5).bind(double_logged)\n",
    "print(f\"Value: {result.value}\")  # 12\n",
    "print(f\"Log: {result.log}\")      # \"Incremented 5 to 6\\nDoubled 6 to 12\\n\""
   ]
  },
  {
   "cell_type": "markdown",
   "metadata": {},
   "source": [
    "## Snippet 2: Reader Config\n",
    "\n",
    "Configuration-dependent computation"
   ]
  },
  {
   "cell_type": "code",
   "execution_count": null,
   "metadata": {},
   "outputs": [],
   "source": [
    "# Configuration-dependent computation\n",
    "def get_user_name(user_id):\n",
    "    return Reader(lambda config: config[\"users\"].get(user_id, \"Unknown\"))\n",
    "\n",
    "def get_user_age(user_id):\n",
    "    return Reader(lambda config: config[\"ages\"].get(user_id, 0))\n",
    "\n",
    "# Compose readers\n",
    "def user_info(user_id):\n",
    "    return get_user_name(user_id).bind(\n",
    "        lambda name: get_user_age(user_id).map(\n",
    "            lambda age: f\"{name} is {age} years old\"\n",
    "        )\n",
    "    )\n",
    "\n",
    "# Run with configuration\n",
    "config = {\"users\": {1: \"Alice\", 2: \"Bob\"}, \"ages\": {1: 30, 2: 25}}\n",
    "result = user_info(1).run(config)\n",
    "print(result)  # \"Alice is 30 years old\""
   ]
  },
  {
   "cell_type": "markdown",
   "metadata": {},
   "source": [
    "## Snippet 3: Result Validation\n",
    "\n",
    "Applicative vs Monad validation patterns"
   ]
  },
  {
   "cell_type": "code",
   "execution_count": null,
   "metadata": {},
   "outputs": [],
   "source": [
    "# Applicative: parallel validation\n",
    "def validate_age(age):\n",
    "    if age < 0:\n",
    "        return Result.err(\"Age cannot be negative\")\n",
    "    if age > 150:\n",
    "        return Result.err(\"Age seems unrealistic\")\n",
    "    return Result.ok(age)\n",
    "\n",
    "def validate_name(name):\n",
    "    if not name or len(name.strip()) == 0:\n",
    "        return Result.err(\"Name cannot be empty\")\n",
    "    return Result.ok(name.strip())\n",
    "\n",
    "# Applicative parallel validation\n",
    "age_result = validate_age(25)\n",
    "name_result = validate_name(\"Alice\")\n",
    "\n",
    "# Both validations run independently\n",
    "validation_func = Result.ok(lambda age: lambda name: {\"age\": age, \"name\": name})\n",
    "result = validation_func.ap(age_result).ap(name_result)\n",
    "\n",
    "print(f\"Parallel validation: {result}\")\n",
    "# Output: Result.ok({'age': 25, 'name': 'Alice'})\n",
    "\n",
    "# Monad: sequential validation (stops on first error)\n",
    "def validate_user(user_data):\n",
    "    return validate_age(user_data[\"age\"]).bind(\n",
    "        lambda age: validate_name(user_data[\"name\"]).map(\n",
    "            lambda name: {\"age\": age, \"name\": name}\n",
    "        )\n",
    "    )\n",
    "\n",
    "# This will fail on first error\n",
    "bad_result = validate_user({\"age\": -5, \"name\": \"Alice\"})\n",
    "print(f\"Sequential validation: {bad_result}\")\n",
    "# Output: Result.err('Age cannot be negative')"
   ]
  },
  {
   "cell_type": "markdown",
   "metadata": {},
   "source": [
    "## Snippet 4: State Counters\n",
    "\n",
    "Stateful operations with composition"
   ]
  },
  {
   "cell_type": "code",
   "execution_count": null,
   "metadata": {},
   "outputs": [],
   "source": [
    "# Stateful operations\n",
    "def increment_counter():\n",
    "    return State(lambda s: (s + 1, s + 1))\n",
    "\n",
    "def double_counter():\n",
    "    return State(lambda s: (s * 2, s * 2))\n",
    "\n",
    "def reset_counter():\n",
    "    return State(lambda s: (0, 0))\n",
    "\n",
    "# Compose stateful operations\n",
    "def complex_counter():\n",
    "    return increment_counter().bind(\n",
    "        lambda _: increment_counter().bind(\n",
    "            lambda _: double_counter().bind(\n",
    "                lambda _: reset_counter()\n",
    "            )\n",
    "        )\n",
    "    )\n",
    "\n",
    "# Run with initial state\n",
    "final_value, final_state = complex_counter().run(0)\n",
    "print(f\"Final value: {final_value}, Final state: {final_state}\")\n",
    "# Output: Final value: 0, Final state: 0\n",
    "# State was: 0 → 1 → 2 → 4 → 0"
   ]
  },
  {
   "cell_type": "markdown",
   "metadata": {},
   "source": [
    "## Snippet 5: List Search with Kleisli\n",
    "\n",
    "Monadic list operations"
   ]
  },
  {
   "cell_type": "code",
   "execution_count": null,
   "metadata": {},
   "outputs": [],
   "source": [
    "# Kleisli arrows for list operations\n",
    "def find_item(predicate):\n",
    "    return Kleisli(lambda xs:\n",
    "        Option.some(next((x for x in xs if predicate(x)), None))\n",
    "        .bind(lambda x: Option.some(x) if x is not None else Option.none())\n",
    "    )\n",
    "\n",
    "def filter_items(predicate):\n",
    "    return Kleisli(lambda xs: Option.some([x for x in xs if predicate(x)]))\n",
    "\n",
    "# Compose search operations\n",
    "search_plan = find_item(lambda x: x > 10).compose(\n",
    "    filter_items(lambda x: x % 2 == 0)\n",
    ")\n",
    "\n",
    "numbers = [5, 12, 8, 15, 20, 3]\n",
    "result = search_plan(numbers)\n",
    "print(f\"Search result: {result}\")\n",
    "# Note: This may not work as expected due to composition order"
   ]
  },
  {
   "cell_type": "markdown",
   "metadata": {},
   "source": [
    "## Snippet 6: Lenses on Nested Dict\n",
    "\n",
    "Immutable state management"
   ]
  },
  {
   "cell_type": "code",
   "execution_count": null,
   "metadata": {},
   "outputs": [],
   "source": [
    "# Create lenses for nested access\n",
    "user_lens = Lens(\n",
    "    get=lambda data: data.get(\"user\", {}),\n",
    "    set=lambda user, data: {**data, \"user\": user}\n",
    ")\n",
    "\n",
    "name_lens = Lens(\n",
    "    get=lambda user: user.get(\"name\", \"\"),\n",
    "    set=lambda name, user: {**user, \"name\": name}\n",
    ")\n",
    "\n",
    "age_lens = Lens(\n",
    "    get=lambda user: user.get(\"age\", 0),\n",
    "    set=lambda age, user: {**user, \"age\": age}\n",
    ")\n",
    "\n",
    "# Compose lenses\n",
    "user_name_lens = user_lens.compose(name_lens)\n",
    "user_age_lens = user_lens.compose(age_lens)\n",
    "\n",
    "# Use lenses\n",
    "data = {\"user\": {\"name\": \"Alice\", \"age\": 30}}\n",
    "new_data = user_name_lens.set(\"Bob\", data)\n",
    "print(f\"Updated name: {new_data}\")\n",
    "# Output: {'user': {'name': 'Bob', 'age': 30}}\n",
    "\n",
    "# View through lens\n",
    "age = user_age_lens.get(data)\n",
    "print(f\"Current age: {age}\")  # 30"
   ]
  },
  {
   "cell_type": "markdown",
   "metadata": {},
   "source": [
    "## Snippet 7: Commuting Triangle\n",
    "\n",
    "Diagram construction and verification"
   ]
  },
  {
   "cell_type": "code",
   "execution_count": null,
   "metadata": {},
   "outputs": [],
   "source": [
    "# Create a commuting triangle\n",
    "A, B, C = obj(\"A\"), obj(\"B\"), obj(\"C\")\n",
    "f = arrow(\"f\", \"A\", \"B\")\n",
    "g = arrow(\"g\", \"B\", \"C\")\n",
    "h = arrow(\"h\", \"A\", \"C\")\n",
    "\n",
    "# Build category\n",
    "C_triangle = build_presentation([A, B, C], [f, g, h])\n",
    "\n",
    "# Create diagram\n",
    "triangle_diagram = Diagram.from_edges(\n",
    "    [\"A\", \"B\", \"C\"],\n",
    "    [(\"A\", \"B\", \"f\"), (\"B\", \"C\", \"g\"), (\"A\", \"C\", \"h\")]\n",
    ")\n",
    "\n",
    "# Check if triangle commutes (h = g ∘ f)\n",
    "commutes = check_commutativity(Cat.from_presentation(C_triangle), \"A\", \"C\", [[\"f\", \"g\"], [\"h\"]])\n",
    "print(f\"Triangle commutes: {commutes.ok}\")  # True\n",
    "\n",
    "# Render diagram\n",
    "mermaid = triangle_diagram.to_mermaid()\n",
    "print(\"Mermaid diagram:\")\n",
    "print(mermaid)"
   ]
  },
  {
   "cell_type": "markdown",
   "metadata": {},
   "source": [
    "## Snippet 8: Failing Square\n",
    "\n",
    "Non-commutative diagram example"
   ]
  },
  {
   "cell_type": "code",
   "execution_count": null,
   "metadata": {},
   "outputs": [],
   "source": [
    "# Create a non-commuting square\n",
    "A, B, C, D = obj(\"A\"), obj(\"B\"), obj(\"C\"), obj(\"D\")\n",
    "f1 = arrow(\"f1\", \"A\", \"B\")\n",
    "f2 = arrow(\"f2\", \"C\", \"D\")\n",
    "g1 = arrow(\"g1\", \"A\", \"C\")\n",
    "g2 = arrow(\"g2\", \"B\", \"D\")\n",
    "\n",
    "# Build category\n",
    "C_square = build_presentation([A, B, C, D], [f1, f2, g1, g2])\n",
    "\n",
    "# Create diagram\n",
    "square_diagram = Diagram.from_edges(\n",
    "    [\"A\", \"B\", \"C\", \"D\"],\n",
    "    [(\"A\", \"B\", \"f1\"), (\"C\", \"D\", \"f2\"), (\"A\", \"C\", \"g1\"), (\"B\", \"D\", \"g2\")]\n",
    ")\n",
    "\n",
    "# Check commutativity (this will fail)\n",
    "commutes = check_commutativity(Cat.from_presentation(C_square), \"A\", \"D\", [[\"f1\", \"g2\"], [\"g1\", \"f2\"]])\n",
    "print(f\"Square commutes: {commutes.ok}\")  # False\n",
    "\n",
    "# Render failing diagram\n",
    "dot = square_diagram.to_dot()\n",
    "print(\"DOT diagram:\")\n",
    "print(dot)"
   ]
  },
  {
   "cell_type": "markdown",
   "metadata": {},
   "source": [
    "## Snippet 9: Plan → Kleisli Agent\n",
    "\n",
    "Agent compilation to monadic arrows"
   ]
  },
  {
   "cell_type": "code",
   "execution_count": null,
   "metadata": {},
   "outputs": [],
   "source": "# Define agent plan\nincrement_task = Task(\"increment\")\ndouble_task = Task(\"double\")\nplan = sequence(increment_task, double_task)\n\n# Define actions\nactions = {\n    \"increment\": lambda x: x + 1,\n    \"double\": lambda x: x * 2\n}\n\n# Compile to Kleisli arrow\nkleisli_plan = compile_to_kleisli(actions, plan, Option)\nresult = kleisli_plan(5)\n\nprint(f\"Agent result: {result}\")\n# Output: Option.some(12)\n\n# Verify it's a proper monadic value\nassert isinstance(result, Option)\nassert result.is_some()\nprint(\"Agent compilation successful!\")"
  },
  {
   "cell_type": "markdown",
   "metadata": {},
   "source": [
    "## Snippet 10: Applicative Parallel Plan\n",
    "\n",
    "Parallel execution with aggregation"
   ]
  },
  {
   "cell_type": "code",
   "execution_count": null,
   "metadata": {},
   "outputs": [],
   "source": [
    "# Parallel plan\n",
    "increment_task = Task(\"increment\")\n",
    "double_task = Task(\"double\")\n",
    "parallel_plan = parallel(increment_task, double_task)\n",
    "\n",
    "# Compile with aggregation\n",
    "def aggregate_results(results):\n",
    "    return sum(results)  # Simple sum aggregation\n",
    "\n",
    "actions = {\n",
    "    \"increment\": lambda x: x + 1,\n",
    "    \"double\": lambda x: x * 2\n",
    "}\n",
    "\n",
    "executable = compile_plan(actions, parallel_plan, aggregate_fn=aggregate_results)\n",
    "result = executable(5)\n",
    "\n",
    "print(f\"Parallel result: {result}\")\n",
    "# Output: 16 (increment: 6, double: 10, sum: 16)"
   ]
  },
  {
   "cell_type": "markdown",
   "metadata": {},
   "source": "## Summary\n\nEach snippet demonstrates a different LambdaCat feature:\n1. **Writer logging** with monoid accumulation\n2. **Reader configuration** dependency\n3. **Result validation** (Applicative vs Monad)\n4. **State counters** with composition\n5. **List search** using Kleisli arrows\n6. **Lenses** for nested data access\n7. **Commuting triangle** diagrams\n8. **Non-commutative** diagrams\n9. **Agent plans** compiled to Kleisli\n10. **Parallel execution** with aggregation\n\nSee the complete documentation for more examples."
  }
 ],
 "metadata": {
  "kernelspec": {
   "display_name": "Python 3",
   "language": "python",
   "name": "python3"
  },
  "language_info": {
   "codemirror_mode": {
    "name": "ipython",
    "version": 3
   },
   "file_extension": ".py",
   "mimetype": "text/x-python",
   "name": "python",
   "nbconvert_exporter": "python",
   "pygments_lexer": "ipython3",
   "version": "3.12.0"
  }
 },
 "nbformat": 4,
 "nbformat_minor": 4
}