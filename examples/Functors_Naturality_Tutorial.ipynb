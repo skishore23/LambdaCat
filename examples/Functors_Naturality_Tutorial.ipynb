{
 "cells": [
  {
   "cell_type": "markdown",
   "id": "0a00e724",
   "metadata": {},
   "source": "# Functors & Natural Transformations\n\nLearn about functors and natural transformations in LambdaCat."
  },
  {
   "cell_type": "markdown",
   "id": "e9d06fa9",
   "metadata": {},
   "source": "## Setup"
  },
  {
   "cell_type": "code",
   "execution_count": null,
   "id": "ec441912",
   "metadata": {},
   "outputs": [],
   "source": "from LambdaCat.core.standard import discrete, simplex\n\nprint(\"Imports loaded\")"
  },
  {
   "cell_type": "markdown",
   "id": "009477a0",
   "metadata": {},
   "source": "## 1. What is a Functor?\n\nA functor F: C → D is a map between categories that:\n- Maps objects in C to objects in D\n- Maps morphisms in C to morphisms in D\n- Preserves composition: F(g ∘ f) = F(g) ∘ F(f)\n- Preserves identity: F(id_A) = id_F(A)\n\nLet's see some examples:"
  },
  {
   "cell_type": "code",
   "execution_count": null,
   "id": "f463bac5",
   "metadata": {},
   "outputs": [],
   "source": [
    "# Create source and target categories\n",
    "C = simplex(2)  # 0 → 1 → 2\n",
    "D = discrete([\"0\", \"1\", \"2\"])  # Three isolated objects\n",
    "\n",
    "print(\"Source category C (simplex):\")\n",
    "print(f\"  Objects: {[obj.name for obj in C.objects]}\")\n",
    "print(f\"  Arrows: {[arrow.name for arrow in C.arrows]}\")\n",
    "\n",
    "print(\"\\nTarget category D (discrete):\")\n",
    "print(f\"  Objects: {[obj.name for obj in D.objects]}\")\n",
    "print(f\"  Arrows: {[arrow.name for arrow in D.arrows]}\")"
   ]
  },
  {
   "cell_type": "markdown",
   "id": "6c2e5766",
   "metadata": {},
   "source": "## 2. Building a Functor\n\nCreate a functor between two categories:"
  },
  {
   "cell_type": "code",
   "execution_count": null,
   "id": "276ebed7",
   "metadata": {},
   "outputs": [],
   "source": "# Functors map between categories\nprint(\"Functor construction:\")\nprint(f\"  Source category C has {len(C.objects)} objects\")\nprint(f\"  Target category D has {len(D.objects)} objects\")\nprint(\"  Functors preserve composition structure\")"
  },
  {
   "cell_type": "markdown",
   "id": "6b02b315",
   "metadata": {},
   "source": "## 3. Functor Laws\n\nFunctors must satisfy:"
  },
  {
   "cell_type": "code",
   "execution_count": null,
   "id": "4372903b",
   "metadata": {},
   "outputs": [],
   "source": "# Functor laws\nprint(\"1. Identity preservation: F(id_A) = id_F(A)\")\nprint(\"2. Composition preservation: F(g ∘ f) = F(g) ∘ F(f)\")\nprint(\"LambdaCat automatically checks these laws\")"
  },
  {
   "cell_type": "markdown",
   "id": "4256f834",
   "metadata": {},
   "source": "## 4. Natural Transformations\n\nA natural transformation α: F ⇒ G between functors consists of:\n- Components α_X: F(X) → G(X) for each object X\n- Naturality: α_Y ∘ F(f) = G(f) ∘ α_X for each morphism f: X → Y"
  },
  {
   "cell_type": "code",
   "execution_count": null,
   "id": "3b161260",
   "metadata": {},
   "outputs": [],
   "source": "# Natural transformations\nprint(\"Natural transformations transform between functors\")\nprint(\"Components must satisfy the naturality condition\")\nprint(\"This ensures the transformation respects categorical structure\")"
  },
  {
   "cell_type": "markdown",
   "id": "1914dc60",
   "metadata": {},
   "source": "## Summary\n\nYou've learned:\n- Functors as structure-preserving maps\n- Functor laws (identity and composition)\n- Natural transformations between functors\n- Naturality conditions\n\nNext: Check out the Advanced Features tutorial for agents, optics, and more."
  }
 ],
 "metadata": {
  "kernelspec": {
   "display_name": ".venv",
   "language": "python",
   "name": "python3"
  },
  "language_info": {
   "codemirror_mode": {
    "name": "ipython",
    "version": 3
   },
   "file_extension": ".py",
   "mimetype": "text/x-python",
   "name": "python",
   "nbconvert_exporter": "python",
   "pygments_lexer": "ipython3",
   "version": "3.12.8"
  }
 },
 "nbformat": 4,
 "nbformat_minor": 5
}