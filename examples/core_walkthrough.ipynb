{
  "cells": [
    {
      "cell_type": "markdown",
      "metadata": {},
      "source": [
        "# Core Walkthrough: Categories, Functors, Naturality, Monads\n",
        "\n",
        "This notebook demonstrates non-agent features:\n",
        "- Build small categories (terminal, discrete, simplex Δ³)\n",
        "- Define and check functors\n",
        "- Define and check natural transformations\n",
        "- Use FP monads (`Id`, `Maybe`) and `Kleisli`\n",
        "- Render Mermaid diagrams (categories, functors, naturality, plan)\n",
        "\n"
      ]
    },
    {
      "cell_type": "code",
      "execution_count": 55,
      "metadata": {},
      "outputs": [
        {
          "data": {
            "text/plain": [
              "(Cat(objects=(Obj(name='*', data=None),), arrows=(ArrowGen(name='id:*', source='*', target='*'),), composition=mappingproxy({('id:*', 'id:*'): 'id:*'}), identities=mappingproxy({'*': 'id:*'})),\n",
              " Cat(objects=(Obj(name='A', data=None), Obj(name='B', data=None)), arrows=(ArrowGen(name='id:A', source='A', target='A'), ArrowGen(name='id:B', source='B', target='B')), composition=mappingproxy({('id:A', 'id:A'): 'id:A', ('id:B', 'id:B'): 'id:B'}), identities=mappingproxy({'A': 'id:A', 'B': 'id:B'})),\n",
              " Cat(objects=(Obj(name='0', data=None), Obj(name='1', data=None), Obj(name='2', data=None), Obj(name='3', data=None)), arrows=(ArrowGen(name='id:0', source='0', target='0'), ArrowGen(name='0->1', source='0', target='1'), ArrowGen(name='0->2', source='0', target='2'), ArrowGen(name='0->3', source='0', target='3'), ArrowGen(name='id:1', source='1', target='1'), ArrowGen(name='1->2', source='1', target='2'), ArrowGen(name='1->3', source='1', target='3'), ArrowGen(name='id:2', source='2', target='2'), ArrowGen(name='2->3', source='2', target='3'), ArrowGen(name='id:3', source='3', target='3')), composition=mappingproxy({('id:0', 'id:0'): 'id:0', ('0->1', 'id:0'): '0->1', ('0->2', 'id:0'): '0->2', ('0->3', 'id:0'): '0->3', ('id:1', '0->1'): '0->1', ('1->2', '0->1'): '0->2', ('1->3', '0->1'): '0->3', ('id:2', '0->2'): '0->2', ('2->3', '0->2'): '0->3', ('id:3', '0->3'): '0->3', ('id:1', 'id:1'): 'id:1', ('1->2', 'id:1'): '1->2', ('1->3', 'id:1'): '1->3', ('id:2', '1->2'): '1->2', ('2->3', '1->2'): '1->3', ('id:3', '1->3'): '1->3', ('id:2', 'id:2'): 'id:2', ('2->3', 'id:2'): '2->3', ('id:3', '2->3'): '2->3', ('id:3', 'id:3'): 'id:3'}), identities=mappingproxy({'0': 'id:0', '1': 'id:1', '2': 'id:2', '3': 'id:3'})),\n",
              " Cat(objects=(Obj(name='A', data=None), Obj(name='B', data=None)), arrows=(ArrowGen(name='id:A', source='A', target='A'), ArrowGen(name='id:B', source='B', target='B'), ArrowGen(name='f', source='A', target='B'), ArrowGen(name='g', source='B', target='A')), composition=mappingproxy({('id:A', 'id:A'): 'id:A', ('id:B', 'id:B'): 'id:B', ('f', 'id:A'): 'f', ('id:B', 'f'): 'f', ('g', 'id:B'): 'g', ('id:A', 'g'): 'g', ('g', 'f'): 'id:A', ('f', 'g'): 'id:B'}), identities=mappingproxy({'A': 'id:A', 'B': 'id:B'})))"
            ]
          },
          "execution_count": 55,
          "metadata": {},
          "output_type": "execute_result"
        }
      ],
      "source": [
        "from LambdaCat.core.standard import terminal_category, discrete, simplex, walking_isomorphism\n",
        "from LambdaCat.core.laws import run_suite\n",
        "from LambdaCat.core.laws_category import CATEGORY_SUITE\n",
        "\n",
        "Term = terminal_category()\n",
        "Disc = discrete([\"A\",\"B\"]) \n",
        "Delta3 = simplex(3)\n",
        "Iso = walking_isomorphism()\n",
        "\n",
        "assert run_suite(Term, CATEGORY_SUITE).ok\n",
        "assert run_suite(Disc, CATEGORY_SUITE).ok\n",
        "assert run_suite(Delta3, CATEGORY_SUITE).ok\n",
        "assert run_suite(Iso, CATEGORY_SUITE).ok\n",
        "\n",
        "Term, Disc, Delta3, Iso\n"
      ]
    },
    {
      "cell_type": "code",
      "execution_count": 56,
      "metadata": {},
      "outputs": [
        {
          "name": "stdout",
          "output_type": "stream",
          "text": [
            "Suite functor-core: OK\n",
            "  - functor-identities: OK\n",
            "  - functor-composition: OK\n"
          ]
        },
        {
          "data": {
            "text/plain": [
              "('F', 4, 10)"
            ]
          },
          "execution_count": 56,
          "metadata": {},
          "output_type": "execute_result"
        }
      ],
      "source": [
        "from LambdaCat.core.functor import FunctorBuilder\n",
        "from LambdaCat.core.laws_functor import FUNCTOR_SUITE\n",
        "\n",
        "F = (FunctorBuilder('F', source=Delta3, target=Iso)\n",
        "     .on_objects({\"0\":\"A\",\"1\":\"A\",\"2\":\"B\",\"3\":\"B\"})\n",
        "     .on_morphisms({\"0->1\":\"id:A\",\"1->2\":\"f\",\"2->3\":\"id:B\",\"0->3\":\"f\"})\n",
        "     .build())\n",
        "\n",
        "report = run_suite(F, FUNCTOR_SUITE)\n",
        "print(report.to_text())\n",
        "F.name, len(F.object_map), len(F.morphism_map)\n"
      ]
    },
    {
      "cell_type": "code",
      "execution_count": 57,
      "metadata": {},
      "outputs": [
        {
          "name": "stdout",
          "output_type": "stream",
          "text": [
            "Suite natural-core: OK\n",
            "  - naturality-components-typed: OK\n",
            "  - naturality-squares: OK\n"
          ]
        },
        {
          "data": {
            "text/plain": [
              "[('0', 'id:A'), ('1', 'id:A'), ('2', 'id:B'), ('3', 'id:B')]"
            ]
          },
          "execution_count": 57,
          "metadata": {},
          "output_type": "execute_result"
        }
      ],
      "source": [
        "from LambdaCat.core.natural import Natural\n",
        "from LambdaCat.core import NATURAL_SUITE\n",
        "\n",
        "eta = Natural(source=F, target=F, components={\"0\":\"id:A\",\"1\":\"id:A\",\"2\":\"id:B\",\"3\":\"id:B\"})\n",
        "report = run_suite(eta, NATURAL_SUITE)\n",
        "print(report.to_text())\n",
        "list(eta.components.items())\n"
      ]
    },
    {
      "cell_type": "code",
      "execution_count": 58,
      "metadata": {},
      "outputs": [
        {
          "name": "stdout",
          "output_type": "stream",
          "text": [
            "Maybe(value=0.08333333333333333)\n",
            "Maybe(value=None)\n",
            "Id(value=8)\n"
          ]
        }
      ],
      "source": [
        "from LambdaCat.core.fp.kleisli import Kleisli\n",
        "from LambdaCat.core.fp.instances.maybe import Maybe\n",
        "from LambdaCat.core.fp.instances.identity import Id\n",
        "\n",
        "parse_int = Kleisli(lambda s: Maybe(int(s)) if str(s).isdigit() else Maybe(None))\n",
        "recip = Kleisli(lambda n: Maybe(None) if n == 0 else Maybe(1.0 / n))\n",
        "pipeline = parse_int.then(recip)\n",
        "\n",
        "print(pipeline.run(\"12\"))   # Maybe(1/12)\n",
        "print(pipeline.run(\"oops\"))  # Maybe(None)\n",
        "\n",
        "# Identity monad\n",
        "inc = Kleisli(lambda n: Id(n + 1))\n",
        "dbl = Kleisli(lambda n: Id(n * 2))\n",
        "print(inc.then(dbl).run(3))  # Id(8)\n",
        "\n"
      ]
    },
    {
      "cell_type": "code",
      "execution_count": 59,
      "metadata": {},
      "outputs": [
        {
          "name": "stdout",
          "output_type": "stream",
          "text": [
            "# Category\n",
            "\n",
            "```mermaid\n",
            "graph LR\n",
            "  0 -- \"0->1\" --> 1\n",
            "  0 -- \"0->2\" --> 2\n",
            "  0 -- \"0->3\" --> 3\n",
            "  1 -- \"1->2\" --> 2\n",
            "  1 -- \"1->3\" --> 3\n",
            "  2 -- \"2->3\" --> 3\n",
            "```\n",
            "# Functor\n",
            "\n",
            "```mermaid\n",
            "graph LR\n",
            "subgraph Source\n",
            "  S_0 -- \"0->1\" --> S_1\n",
            "  S_0 -- \"0->2\" --> S_2\n",
            "  S_0 -- \"0->3\" --> S_3\n",
            "  S_1 -- \"1->2\" --> S_2\n",
            "  S_1 -- \"1->3\" --> S_3\n",
            "  S_2 -- \"2->3\" --> S_3\n",
            "  S_0 -- \n"
          ]
        }
      ],
      "source": [
        "from LambdaCat.extras.viz_mermaid import render_all, TwoCellView, category_mermaid, functor_mermaid, naturality_mermaid\n",
        "\n",
        "md = render_all({\n",
        "    'Delta3': Delta3,\n",
        "    'Iso': Iso,\n",
        "    'F': F,\n",
        "    'eta': eta,\n",
        "}, out_dir=None)\n",
        "\n",
        "print(md['Delta3__category.md'][:200])\n",
        "print(md['F__functor.md'][:200])\n",
        "\n"
      ]
    },
    {
      "cell_type": "markdown",
      "metadata": {},
      "source": [
        "## Opposite category and dual functors\n",
        "We can construct the opposite category `C^op` and examine how a functor `F: C -> D` induces structure on `C^op`.\n"
      ]
    },
    {
      "cell_type": "code",
      "execution_count": 60,
      "metadata": {},
      "outputs": [
        {
          "name": "stdout",
          "output_type": "stream",
          "text": [
            "4 10\n",
            "4 10\n"
          ]
        }
      ],
      "source": [
        "from LambdaCat.core.ops_category import opposite_category\n",
        "\n",
        "Delta3_op = opposite_category(Delta3)\n",
        "print(len(Delta3.objects), len(Delta3.arrows))\n",
        "print(len(Delta3_op.objects), len(Delta3_op.arrows))\n"
      ]
    },
    {
      "cell_type": "markdown",
      "metadata": {},
      "source": [
        "## Functor algebra: composition and identity\n",
        "Demonstrate `FunctorBuilder` preserving identities and composition; verify with the law suite and inspect violations when broken.\n"
      ]
    },
    {
      "cell_type": "code",
      "execution_count": 61,
      "metadata": {},
      "outputs": [
        {
          "name": "stdout",
          "output_type": "stream",
          "text": [
            "Suite functor-core: FAIL\n",
            "  - functor-identities: FAIL\n",
            "    • ERROR F(id_0) ≠ id_A | witness={'X': '0'}\n",
            "    • ERROR F(id_1) ≠ id_A | witness={'X': '1'}\n",
            "    • ERROR F(id_2) ≠ id_B | witness={'X': '2'}\n",
            "    • ERROR F(id_3) ≠ id_B | witness={'X': '3'}\n",
            "  - functor-composition: FAIL\n",
            "    • ERROR compose error: 'id:0' | witness={'g': 'id:0', 'f': 'id:0'}\n",
            "    • ERROR compose error: 'id:0' | witness={'g': '0->1', 'f': 'id:0'}\n",
            "    • ERROR compose error: '0->2' | witness={'g': '0->2', 'f': 'id:0'}\n",
            "    • ERROR compose error: '0->3' | witness={'g': '0->3', 'f': 'id:0'}\n",
            "    • ERROR compose error: 'id:1' | witness={'g': 'id:1', 'f': '0->1'}\n",
            "    • ERROR compose error: '1->2' | witness={'g': '1->2', 'f': '0->1'}\n",
            "    • ERROR compose error: '1->3' | witness={'g': '1->3', 'f': '0->1'}\n",
            "    • ERROR compose error: 'id:2' | witness={'g': 'id:2', 'f': '0->2'}\n",
            "    • ERROR compose error: '2->3' | witness={'g': '2->3', 'f': '0->2'}\n",
            "    • ERROR compose error: 'id:3' | witness={'g': 'id:3', 'f': '0->3'}\n",
            "    • ERROR compose error: 'id:1' | witness={'g': 'id:1', 'f': 'id:1'}\n",
            "    • ERROR compose error: '1->2' | witness={'g': '1->2', 'f': 'id:1'}\n",
            "    • ERROR compose error: '1->3' | witness={'g': '1->3', 'f': 'id:1'}\n",
            "    • ERROR compose error: 'id:2' | witness={'g': 'id:2', 'f': '1->2'}\n",
            "    • ERROR compose error: '2->3' | witness={'g': '2->3', 'f': '1->2'}\n",
            "    • ERROR compose error: 'id:3' | witness={'g': 'id:3', 'f': '1->3'}\n",
            "    • ERROR compose error: 'id:2' | witness={'g': 'id:2', 'f': 'id:2'}\n",
            "    • ERROR compose error: '2->3' | witness={'g': '2->3', 'f': 'id:2'}\n",
            "    • ERROR compose error: 'id:3' | witness={'g': 'id:3', 'f': '2->3'}\n",
            "    • ERROR compose error: 'id:3' | witness={'g': 'id:3', 'f': 'id:3'}\n"
          ]
        }
      ],
      "source": [
        "from LambdaCat.core.functor import CatFunctor\n",
        "from LambdaCat.core.laws_functor import FUNCTOR_SUITE\n",
        "\n",
        "# Builder enforces laws and raises on invalid data. For a violations demo,\n",
        "# construct a CatFunctor directly with an incomplete/incorrect morphism map.\n",
        "broken = CatFunctor(\n",
        "    name=\"B\",\n",
        "    source=Delta3,\n",
        "    target=Iso,\n",
        "    object_map={\"0\":\"A\",\"1\":\"A\",\"2\":\"B\",\"3\":\"B\"},\n",
        "    morphism_map={\"0->1\":\"id:A\"},  # intentionally incomplete\n",
        ")\n",
        "rep = run_suite(broken, FUNCTOR_SUITE)\n",
        "print(rep.to_text())\n"
      ]
    },
    {
      "cell_type": "code",
      "execution_count": 62,
      "metadata": {},
      "outputs": [
        {
          "name": "stdout",
          "output_type": "stream",
          "text": [
            "{'objects': [{'name': 'A', 'data': None}, {'name': 'B', 'data': None}], 'arrows': [{'name': 'f', 'source': 'A', 'target': 'B'}, {'name': 'id:A', 'source': 'A', 'target': 'A'}, {'name': 'id:B', 'source': 'B', 'target': 'B'}], 'relations': []}\n",
            "['Delta3__category.md', 'Iso__category.md']\n"
          ]
        }
      ],
      "source": [
        "from LambdaCat.core.builder import obj, arrow, build_presentation\n",
        "from LambdaCat.core.convert import to_dict\n",
        "\n",
        "A, B = obj(\"A\"), obj(\"B\")\n",
        "F = arrow(\"f\",\"A\",\"B\")\n",
        "P = build_presentation((A,B),(F,))\n",
        "print(to_dict(P))\n",
        "\n",
        "md_map = render_all({'Delta3': Delta3, 'Iso': Iso}, out_dir=None)\n",
        "print(list(md_map.keys())[:4])\n"
      ]
    },
    {
      "cell_type": "code",
      "execution_count": 63,
      "metadata": {},
      "outputs": [
        {
          "name": "stdout",
          "output_type": "stream",
          "text": [
            "{'objects': [{'name': 'A', 'data': None}, {'name': 'B', 'data': None}], 'arrows': [{'name': 'f', 'source': 'A', 'target': 'B'}, {'name': 'id:A', 'source': 'A', 'target': 'A'}, {'name': 'id:B', 'source': 'B', 'target': 'B'}], 'relations': []}\n",
            "['Delta3__category.md', 'Iso__category.md']\n"
          ]
        }
      ],
      "source": [
        "from LambdaCat.core.builder import obj, arrow, build_presentation\n",
        "from LambdaCat.core.convert import to_dict\n",
        "\n",
        "A, B = obj(\"A\"), obj(\"B\")\n",
        "F = arrow(\"f\",\"A\",\"B\")\n",
        "P = build_presentation((A,B),(F,))\n",
        "print(to_dict(P))\n",
        "\n",
        "md_map = render_all({'Delta3': Delta3, 'Iso': Iso}, out_dir=None)\n",
        "print(list(md_map.keys())[:4])\n"
      ]
    },
    {
      "cell_type": "code",
      "execution_count": 64,
      "metadata": {},
      "outputs": [
        {
          "name": "stdout",
          "output_type": "stream",
          "text": [
            "{'objects': [{'name': 'A', 'data': None}, {'name': 'B', 'data': None}], 'arrows': [{'name': 'f', 'source': 'A', 'target': 'B'}, {'name': 'id:A', 'source': 'A', 'target': 'A'}, {'name': 'id:B', 'source': 'B', 'target': 'B'}], 'relations': []}\n",
            "['Delta3__category.md', 'Iso__category.md']\n"
          ]
        }
      ],
      "source": [
        "from LambdaCat.core.builder import obj, arrow, build_presentation\n",
        "from LambdaCat.core.convert import to_dict\n",
        "\n",
        "A, B = obj(\"A\"), obj(\"B\")\n",
        "F = arrow(\"f\",\"A\",\"B\")\n",
        "P = build_presentation((A,B),(F,))\n",
        "print(to_dict(P))\n",
        "\n",
        "md_map = render_all({'Delta3': Delta3, 'Iso': Iso}, out_dir=None)\n",
        "print(list(md_map.keys())[:4])\n"
      ]
    },
    {
      "cell_type": "code",
      "execution_count": 65,
      "metadata": {},
      "outputs": [
        {
          "name": "stdout",
          "output_type": "stream",
          "text": [
            "{'objects': [{'name': 'A', 'data': None}, {'name': 'B', 'data': None}], 'arrows': [{'name': 'f', 'source': 'A', 'target': 'B'}, {'name': 'id:A', 'source': 'A', 'target': 'A'}, {'name': 'id:B', 'source': 'B', 'target': 'B'}], 'relations': []}\n",
            "['Delta3__category.md', 'Iso__category.md']\n"
          ]
        }
      ],
      "source": [
        "from LambdaCat.core.builder import obj, arrow, build_presentation\n",
        "from LambdaCat.core.convert import to_dict\n",
        "\n",
        "A, B = obj(\"A\"), obj(\"B\")\n",
        "F = arrow(\"f\",\"A\",\"B\")\n",
        "P = build_presentation((A,B),(F,))\n",
        "print(to_dict(P))\n",
        "\n",
        "md_map = render_all({'Delta3': Delta3, 'Iso': Iso}, out_dir=None)\n",
        "print(list(md_map.keys())[:4])\n"
      ]
    },
    {
      "cell_type": "code",
      "execution_count": 66,
      "metadata": {},
      "outputs": [
        {
          "name": "stdout",
          "output_type": "stream",
          "text": [
            "{'objects': [{'name': 'A', 'data': None}, {'name': 'B', 'data': None}], 'arrows': [{'name': 'f', 'source': 'A', 'target': 'B'}, {'name': 'id:A', 'source': 'A', 'target': 'A'}, {'name': 'id:B', 'source': 'B', 'target': 'B'}], 'relations': []}\n",
            "['Delta3__category.md', 'Iso__category.md']\n"
          ]
        }
      ],
      "source": [
        "from LambdaCat.core.builder import obj, arrow, build_presentation\n",
        "from LambdaCat.core.convert import to_dict\n",
        "\n",
        "A, B = obj(\"A\"), obj(\"B\")\n",
        "F = arrow(\"f\",\"A\",\"B\")\n",
        "P = build_presentation((A,B),(F,))\n",
        "print(to_dict(P))\n",
        "\n",
        "md_map = render_all({'Delta3': Delta3, 'Iso': Iso}, out_dir=None)\n",
        "print(list(md_map.keys())[:4])\n"
      ]
    },
    {
      "cell_type": "markdown",
      "metadata": {},
      "source": [
        "## Monads and Kleisli composition\n",
        "We explore `Maybe` for partiality and `Id` for pure computation; show associativity via chaining.\n"
      ]
    },
    {
      "cell_type": "code",
      "execution_count": 67,
      "metadata": {},
      "outputs": [
        {
          "name": "stdout",
          "output_type": "stream",
          "text": [
            "Suite natural-core: FAIL\n",
            "  - naturality-components-typed: FAIL\n",
            "    • ERROR η_1 has wrong type: expected A->A, got A->B | witness={'X': '1'}\n",
            "  - naturality-squares: FAIL\n",
            "    • ERROR Naturality failed on 0->1 | witness={'f': '0->1'}\n",
            "    • ERROR Composition missing: 'composition not defined for (id:A,f)' | witness={'f': 'id:1'}\n",
            "    • ERROR Composition missing: 'composition not defined for (f,f)' | witness={'f': '1->2'}\n",
            "    • ERROR Composition missing: 'composition not defined for (f,f)' | witness={'f': '1->3'}\n"
          ]
        }
      ],
      "source": [
        "from LambdaCat.core.natural import Natural\n",
        "from LambdaCat.core import NATURAL_SUITE\n",
        "bad = Natural(source=eta.source, target=eta.target, components={**eta.components, \"1\": \"f\"})\n",
        "print(run_suite(bad, NATURAL_SUITE).to_text())\n"
      ]
    },
    {
      "cell_type": "code",
      "execution_count": 68,
      "metadata": {},
      "outputs": [
        {
          "name": "stdout",
          "output_type": "stream",
          "text": [
            "Id(value=5)\n",
            "Kleisli associativity holds on samples.\n"
          ]
        }
      ],
      "source": [
        "from LambdaCat.core.fp.kleisli import kleisli_identity\n",
        "I = kleisli_identity(Id.pure)\n",
        "print(I.run(5))  # Id(5)\n",
        "\n",
        "# Associativity check (empirical)\n",
        "from random import randint\n",
        "f = Kleisli(lambda n: Id(n + 1))\n",
        "g = Kleisli(lambda n: Id(n * 2))\n",
        "h = Kleisli(lambda n: Id(n - 3))\n",
        "\n",
        "for _ in range(3):\n",
        "    x = randint(0, 10)\n",
        "    left = f.then(g).then(h).run(x)\n",
        "    right = f.then(g.then(h)).run(x)\n",
        "    assert left == right\n",
        "print(\"Kleisli associativity holds on samples.\")\n"
      ]
    },
    {
      "cell_type": "markdown",
      "metadata": {},
      "source": [
        "## Serialization and diagrams\n",
        "Convert a presentation to a plain dict and render diagrams for papers or PRs.\n"
      ]
    },
    {
      "cell_type": "code",
      "execution_count": 69,
      "metadata": {},
      "outputs": [
        {
          "name": "stdout",
          "output_type": "stream",
          "text": [
            "{'objects': [{'name': 'A', 'data': None}, {'name': 'B', 'data': None}], 'arrows': [{'name': 'f', 'source': 'A', 'target': 'B'}, {'name': 'id:A', 'source': 'A', 'target': 'A'}, {'name': 'id:B', 'source': 'B', 'target': 'B'}], 'relations': []}\n",
            "['Delta3__category.md', 'Iso__category.md']\n"
          ]
        }
      ],
      "source": [
        "from LambdaCat.core.builder import obj, arrow, build_presentation\n",
        "from LambdaCat.core.convert import to_dict\n",
        "\n",
        "A, B = obj(\"A\"), obj(\"B\")\n",
        "F = arrow(\"f\",\"A\",\"B\")\n",
        "P = build_presentation((A,B),(F,))\n",
        "print(to_dict(P))\n",
        "\n",
        "md_map = render_all({'Delta3': Delta3, 'Iso': Iso}, out_dir=None)\n",
        "print(list(md_map.keys())[:4])\n"
      ]
    },
    {
      "cell_type": "code",
      "execution_count": 70,
      "metadata": {},
      "outputs": [
        {
          "name": "stdout",
          "output_type": "stream",
          "text": [
            "{'objects': [{'name': 'A', 'data': None}, {'name': 'B', 'data': None}], 'arrows': [{'name': 'f', 'source': 'A', 'target': 'B'}, {'name': 'id:A', 'source': 'A', 'target': 'A'}, {'name': 'id:B', 'source': 'B', 'target': 'B'}], 'relations': []}\n",
            "['Delta3__category.md', 'Iso__category.md']\n"
          ]
        }
      ],
      "source": [
        "from LambdaCat.core.builder import obj, arrow, build_presentation\n",
        "from LambdaCat.core.convert import to_dict\n",
        "\n",
        "A, B = obj(\"A\"), obj(\"B\")\n",
        "F = arrow(\"f\",\"A\",\"B\")\n",
        "P = build_presentation((A,B),(F,))\n",
        "print(to_dict(P))\n",
        "\n",
        "md_map = render_all({'Delta3': Delta3, 'Iso': Iso}, out_dir=None)\n",
        "print(list(md_map.keys())[:4])\n"
      ]
    }
  ],
  "metadata": {
    "kernelspec": {
      "display_name": ".venv",
      "language": "python",
      "name": "python3"
    },
    "language_info": {
      "codemirror_mode": {
        "name": "ipython",
        "version": 3
      },
      "file_extension": ".py",
      "mimetype": "text/x-python",
      "name": "python",
      "nbconvert_exporter": "python",
      "pygments_lexer": "ipython3",
      "version": "3.12.8"
    }
  },
  "nbformat": 4,
  "nbformat_minor": 2
}
