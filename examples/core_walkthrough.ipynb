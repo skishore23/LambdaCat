{
  "cells": [
    {
      "cell_type": "markdown",
      "metadata": {},
      "source": [
        "# Core Walkthrough: Categories, Functors, Naturality, Monads\n",
        "\n",
        "This notebook demonstrates non-agent features:\n",
        "- Build small categories (terminal, discrete, simplex Δ³)\n",
        "- Define and check functors\n",
        "- Define and check natural transformations\n",
        "- Use FP monads (`Id`, `Maybe`) and `Kleisli`\n",
        "- Render Mermaid diagrams (categories, functors, naturality, plan)\n",
        "\n"
      ]
    },
    {
      "cell_type": "code",
      "execution_count": null,
      "metadata": {},
      "outputs": [],
      "source": [
        "from LambdaCat.core.standard import terminal_category, discrete, simplex, walking_isomorphism\n",
        "from LambdaCat.core.laws import run_suite\n",
        "from LambdaCat.core.laws_category import CATEGORY_SUITE\n",
        "\n",
        "Term = terminal_category()\n",
        "Disc = discrete([\"A\",\"B\"]) \n",
        "Delta3 = simplex(3)\n",
        "Iso = walking_isomorphism()\n",
        "\n",
        "assert run_suite(Term, CATEGORY_SUITE).ok\n",
        "assert run_suite(Disc, CATEGORY_SUITE).ok\n",
        "assert run_suite(Delta3, CATEGORY_SUITE).ok\n",
        "assert run_suite(Iso, CATEGORY_SUITE).ok\n",
        "\n",
        "Term, Disc, Delta3, Iso\n"
      ]
    },
    {
      "cell_type": "code",
      "execution_count": null,
      "metadata": {},
      "outputs": [],
      "source": [
        "from LambdaCat.core.functor import FunctorBuilder\n",
        "from LambdaCat.core.laws_functor import FUNCTOR_SUITE\n",
        "\n",
        "F = (FunctorBuilder('F', source=Delta3, target=Iso)\n",
        "     .on_objects({\"0\":\"A\",\"1\":\"A\",\"2\":\"B\",\"3\":\"B\"})\n",
        "     .on_morphisms({\"0->1\":\"id:A\",\"1->2\":\"f\",\"2->3\":\"id:B\",\"0->3\":\"f\"})\n",
        "     .build())\n",
        "\n",
        "report = run_suite(F, FUNCTOR_SUITE)\n",
        "print(report.to_text())\n",
        "F.name, len(F.object_map), len(F.morphism_map)\n"
      ]
    },
    {
      "cell_type": "code",
      "execution_count": null,
      "metadata": {},
      "outputs": [],
      "source": [
        "from LambdaCat.core.natural import Natural\n",
        "from LambdaCat.core import NATURAL_SUITE\n",
        "\n",
        "eta = Natural(source=F, target=F, components={\"0\":\"id:A\",\"1\":\"id:A\",\"2\":\"id:B\",\"3\":\"id:B\"})\n",
        "report = run_suite(eta, NATURAL_SUITE)\n",
        "print(report.to_text())\n",
        "list(eta.components.items())\n"
      ]
    },
    {
      "cell_type": "code",
      "execution_count": null,
      "metadata": {},
      "outputs": [],
      "source": [
        "from LambdaCat.core.fp.kleisli import Kleisli\n",
        "from LambdaCat.core.fp.instances.maybe import Maybe\n",
        "from LambdaCat.core.fp.instances.identity import Id\n",
        "\n",
        "parse_int = Kleisli(lambda s: Maybe(int(s)) if str(s).isdigit() else Maybe(None))\n",
        "recip = Kleisli(lambda n: Maybe(None) if n == 0 else Maybe(1.0 / n))\n",
        "pipeline = parse_int.then(recip)\n",
        "\n",
        "print(pipeline.run(\"12\"))   # Maybe(1/12)\n",
        "print(pipeline.run(\"oops\"))  # Maybe(None)\n",
        "\n",
        "# Identity monad\n",
        "inc = Kleisli(lambda n: Id(n + 1))\n",
        "dbl = Kleisli(lambda n: Id(n * 2))\n",
        "print(inc.then(dbl).run(3))  # Id(8)\n",
        "\n"
      ]
    },
    {
      "cell_type": "code",
      "execution_count": null,
      "metadata": {},
      "outputs": [],
      "source": [
        "from LambdaCat.extras.viz_mermaid import render_all, TwoCellView, category_mermaid, functor_mermaid, naturality_mermaid\n",
        "\n",
        "md = render_all({\n",
        "    'Delta3': Delta3,\n",
        "    'Iso': Iso,\n",
        "    'F': F,\n",
        "    'eta': eta,\n",
        "}, out_dir=None)\n",
        "\n",
        "print(md['Delta3__category.md'][:200])\n",
        "print(md['F__functor.md'][:200])\n",
        "\n"
      ]
    },
    {
      "cell_type": "markdown",
      "metadata": {},
      "source": [
        "## Opposite category and dual functors\n",
        "We can construct the opposite category `C^op` and examine how a functor `F: C -> D` induces structure on `C^op`.\n"
      ]
    },
    {
      "cell_type": "code",
      "execution_count": null,
      "metadata": {},
      "outputs": [],
      "source": [
        "from LambdaCat.core.ops_category import opposite_category\n",
        "\n",
        "Delta3_op = opposite_category(Delta3)\n",
        "print(len(Delta3.objects), len(Delta3.arrows))\n",
        "print(len(Delta3_op.objects), len(Delta3_op.arrows))\n"
      ]
    },
    {
      "cell_type": "markdown",
      "metadata": {},
      "source": [
        "## Functor algebra: composition and identity\n",
        "Demonstrate `FunctorBuilder` preserving identities and composition; verify with the law suite and inspect violations when broken.\n"
      ]
    },
    {
      "cell_type": "code",
      "execution_count": null,
      "metadata": {},
      "outputs": [],
      "source": [
        "from LambdaCat.core.functor import CatFunctor\n",
        "from LambdaCat.core.laws_functor import FUNCTOR_SUITE\n",
        "\n",
        "# Builder enforces laws and raises on invalid data. For a violations demo,\n",
        "# construct a CatFunctor directly with an incomplete/incorrect morphism map.\n",
        "broken = CatFunctor(\n",
        "    name=\"B\",\n",
        "    source=Delta3,\n",
        "    target=Iso,\n",
        "    object_map={\"0\":\"A\",\"1\":\"A\",\"2\":\"B\",\"3\":\"B\"},\n",
        "    morphism_map={\"0->1\":\"id:A\"},  # intentionally incomplete\n",
        ")\n",
        "rep = run_suite(broken, FUNCTOR_SUITE)\n",
        "print(rep.to_text())\n"
      ]
    },
    {
      "cell_type": "code",
      "execution_count": null,
      "metadata": {},
      "outputs": [],
      "source": [
        "from LambdaCat.core.builder import obj, arrow, build_presentation\n",
        "from LambdaCat.core.convert import to_dict\n",
        "\n",
        "A, B = obj(\"A\"), obj(\"B\")\n",
        "F = arrow(\"f\",\"A\",\"B\")\n",
        "P = build_presentation((A,B),(F,))\n",
        "print(to_dict(P))\n",
        "\n",
        "md_map = render_all({'Delta3': Delta3, 'Iso': Iso}, out_dir=None)\n",
        "print(list(md_map.keys())[:4])\n"
      ]
    },
    {
      "cell_type": "code",
      "execution_count": null,
      "metadata": {},
      "outputs": [],
      "source": [
        "from LambdaCat.core.builder import obj, arrow, build_presentation\n",
        "from LambdaCat.core.convert import to_dict\n",
        "\n",
        "A, B = obj(\"A\"), obj(\"B\")\n",
        "F = arrow(\"f\",\"A\",\"B\")\n",
        "P = build_presentation((A,B),(F,))\n",
        "print(to_dict(P))\n",
        "\n",
        "md_map = render_all({'Delta3': Delta3, 'Iso': Iso}, out_dir=None)\n",
        "print(list(md_map.keys())[:4])\n"
      ]
    },
    {
      "cell_type": "code",
      "execution_count": null,
      "metadata": {},
      "outputs": [],
      "source": [
        "from LambdaCat.core.builder import obj, arrow, build_presentation\n",
        "from LambdaCat.core.convert import to_dict\n",
        "\n",
        "A, B = obj(\"A\"), obj(\"B\")\n",
        "F = arrow(\"f\",\"A\",\"B\")\n",
        "P = build_presentation((A,B),(F,))\n",
        "print(to_dict(P))\n",
        "\n",
        "md_map = render_all({'Delta3': Delta3, 'Iso': Iso}, out_dir=None)\n",
        "print(list(md_map.keys())[:4])\n"
      ]
    },
    {
      "cell_type": "code",
      "execution_count": null,
      "metadata": {},
      "outputs": [],
      "source": [
        "from LambdaCat.core.builder import obj, arrow, build_presentation\n",
        "from LambdaCat.core.convert import to_dict\n",
        "\n",
        "A, B = obj(\"A\"), obj(\"B\")\n",
        "F = arrow(\"f\",\"A\",\"B\")\n",
        "P = build_presentation((A,B),(F,))\n",
        "print(to_dict(P))\n",
        "\n",
        "md_map = render_all({'Delta3': Delta3, 'Iso': Iso}, out_dir=None)\n",
        "print(list(md_map.keys())[:4])\n"
      ]
    },
    {
      "cell_type": "code",
      "execution_count": null,
      "metadata": {},
      "outputs": [],
      "source": [
        "from LambdaCat.core.builder import obj, arrow, build_presentation\n",
        "from LambdaCat.core.convert import to_dict\n",
        "\n",
        "A, B = obj(\"A\"), obj(\"B\")\n",
        "F = arrow(\"f\",\"A\",\"B\")\n",
        "P = build_presentation((A,B),(F,))\n",
        "print(to_dict(P))\n",
        "\n",
        "md_map = render_all({'Delta3': Delta3, 'Iso': Iso}, out_dir=None)\n",
        "print(list(md_map.keys())[:4])\n"
      ]
    },
    {
      "cell_type": "markdown",
      "metadata": {},
      "source": [
        "## Monads and Kleisli composition\n",
        "We explore `Maybe` for partiality and `Id` for pure computation; show associativity via chaining.\n"
      ]
    },
    {
      "cell_type": "code",
      "execution_count": null,
      "metadata": {},
      "outputs": [],
      "source": [
        "from LambdaCat.core.natural import Natural\n",
        "from LambdaCat.core import NATURAL_SUITE\n",
        "bad = Natural(source=eta.source, target=eta.target, components={**eta.components, \"1\": \"f\"})\n",
        "print(run_suite(bad, NATURAL_SUITE).to_text())\n"
      ]
    },
    {
      "cell_type": "code",
      "execution_count": null,
      "metadata": {},
      "outputs": [],
      "source": [
        "from LambdaCat.core.fp.kleisli import kleisli_identity\n",
        "I = kleisli_identity(Id.pure)\n",
        "print(I.run(5))  # Id(5)\n",
        "\n",
        "# Associativity check (empirical)\n",
        "from random import randint\n",
        "f = Kleisli(lambda n: Id(n + 1))\n",
        "g = Kleisli(lambda n: Id(n * 2))\n",
        "h = Kleisli(lambda n: Id(n - 3))\n",
        "\n",
        "for _ in range(3):\n",
        "    x = randint(0, 10)\n",
        "    left = f.then(g).then(h).run(x)\n",
        "    right = f.then(g.then(h)).run(x)\n",
        "    assert left == right\n",
        "print(\"Kleisli associativity holds on samples.\")\n"
      ]
    },
    {
      "cell_type": "markdown",
      "metadata": {},
      "source": [
        "## Serialization and diagrams\n",
        "Convert a presentation to a plain dict and render diagrams for papers or PRs.\n"
      ]
    },
    {
      "cell_type": "code",
      "execution_count": null,
      "metadata": {},
      "outputs": [],
      "source": [
        "from LambdaCat.core.builder import obj, arrow, build_presentation\n",
        "from LambdaCat.core.convert import to_dict\n",
        "\n",
        "A, B = obj(\"A\"), obj(\"B\")\n",
        "F = arrow(\"f\",\"A\",\"B\")\n",
        "P = build_presentation((A,B),(F,))\n",
        "print(to_dict(P))\n",
        "\n",
        "md_map = render_all({'Delta3': Delta3, 'Iso': Iso}, out_dir=None)\n",
        "print(list(md_map.keys())[:4])\n"
      ]
    },
    {
      "cell_type": "code",
      "execution_count": null,
      "metadata": {},
      "outputs": [],
      "source": [
        "from LambdaCat.core.builder import obj, arrow, build_presentation\n",
        "from LambdaCat.core.convert import to_dict\n",
        "\n",
        "A, B = obj(\"A\"), obj(\"B\")\n",
        "F = arrow(\"f\",\"A\",\"B\")\n",
        "P = build_presentation((A,B),(F,))\n",
        "print(to_dict(P))\n",
        "\n",
        "md_map = render_all({'Delta3': Delta3, 'Iso': Iso}, out_dir=None)\n",
        "print(list(md_map.keys())[:4])\n"
      ]
    }
  ],
  "metadata": {
    "kernelspec": {
      "display_name": ".venv",
      "language": "python",
      "name": "python3"
    },
    "language_info": {
      "codemirror_mode": {
        "name": "ipython",
        "version": 3
      },
      "file_extension": ".py",
      "mimetype": "text/x-python",
      "name": "python",
      "nbconvert_exporter": "python",
      "pygments_lexer": "ipython3",
      "version": "3.12.8"
    }
  },
  "nbformat": 4,
  "nbformat_minor": 2
}
