{
 "cells": [
  {
   "cell_type": "markdown",
   "metadata": {},
   "source": "# Basic Categories Tutorial\n\nLearn the basics of category theory using LambdaCat."
  },
  {
   "cell_type": "markdown",
   "metadata": {},
   "source": "## Setup\n\nImport the necessary modules:"
  },
  {
   "cell_type": "code",
   "execution_count": null,
   "metadata": {},
   "outputs": [],
   "source": "from LambdaCat.core import arrow, build_presentation, obj\nfrom LambdaCat.core.category import Cat\n\nprint(\"LambdaCat imported\")"
  },
  {
   "cell_type": "markdown",
   "metadata": {},
   "source": "## 1. What is a Category?\n\nA category has:\n- Objects (the things)\n- Morphisms (arrows between objects)\n- Composition (how to combine arrows)\n- Identity (special arrows from each object to itself)\n\nLet's create one:"
  },
  {
   "cell_type": "code",
   "execution_count": null,
   "metadata": {},
   "outputs": [],
   "source": [
    "# Create objects\n",
    "A = obj(\"A\")\n",
    "B = obj(\"B\")\n",
    "C = obj(\"C\")\n",
    "\n",
    "print(f\"Objects: {A}, {B}, {C}\")\n",
    "print(f\"Object A name: {A.name}\")\n",
    "print(f\"Object A data: {A.data}\")\n"
   ]
  },
  {
   "cell_type": "markdown",
   "metadata": {},
   "source": "## 2. Creating Morphisms\n\nMorphisms connect objects:"
  },
  {
   "cell_type": "code",
   "execution_count": null,
   "metadata": {},
   "outputs": [],
   "source": [
    "# Create morphisms\n",
    "f = arrow(\"f\", \"A\", \"B\")  # f: A → B\n",
    "g = arrow(\"g\", \"B\", \"C\")  # g: B → C\n",
    "h = arrow(\"h\", \"A\", \"C\")  # h: A → C\n",
    "\n",
    "print(f\"Morphism f: {f.source} → {f.target}\")\n",
    "print(f\"Morphism g: {g.source} → {g.target}\")\n",
    "print(f\"Morphism h: {h.source} → {h.target}\")\n"
   ]
  },
  {
   "cell_type": "markdown",
   "metadata": {},
   "source": "## 3. Building a Category\n\nAssemble objects and morphisms:"
  },
  {
   "cell_type": "code",
   "execution_count": null,
   "metadata": {},
   "outputs": [],
   "source": [
    "# Build the category\n",
    "objects = [A, B, C]\n",
    "morphisms = [f, g, h]\n",
    "\n",
    "presentation = build_presentation(objects, morphisms)\n",
    "print(f\"Presentation created with {len(presentation.objects)} objects and {len(presentation.arrows)} arrows\")\n",
    "\n",
    "# Convert to a full category\n",
    "category = Cat.from_presentation(presentation)\n",
    "print(f\"Category created with {len(category.objects)} objects and {len(category.arrows)} arrows\")"
   ]
  },
  {
   "cell_type": "markdown",
   "metadata": {},
   "source": "## Summary\n\nYou've learned:\n- Creating objects and morphisms\n- Building categories\n- Understanding composition and identity\n\nNext: Check out the Functors tutorial to learn about structure-preserving maps between categories."
  }
 ],
 "metadata": {
  "kernelspec": {
   "display_name": ".venv",
   "language": "python",
   "name": "python3"
  },
  "language_info": {
   "codemirror_mode": {
    "name": "ipython",
    "version": 3
   },
   "file_extension": ".py",
   "mimetype": "text/x-python",
   "name": "python",
   "nbconvert_exporter": "python",
   "pygments_lexer": "ipython3",
   "version": "3.12.8"
  }
 },
 "nbformat": 4,
 "nbformat_minor": 4
}