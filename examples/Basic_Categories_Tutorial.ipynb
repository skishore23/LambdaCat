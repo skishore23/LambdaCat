{
 "cells": [
  {
   "cell_type": "markdown",
   "metadata": {},
   "source": [
    "# Basic Categories Tutorial\n",
    "\n",
    "This tutorial introduces the fundamental concepts of category theory using LambdaCat.\n",
    "We'll learn about objects, morphisms, composition, and basic category operations.\n",
    "\n",
    "## Learning Objectives\n",
    "- Understand what categories are\n",
    "- Learn to create and manipulate objects and morphisms\n",
    "- Explore composition and identity\n",
    "- Build simple categories from scratch\n",
    "- Verify category laws\n"
   ]
  },
  {
   "cell_type": "markdown",
   "metadata": {},
   "source": [
    "## Setup and Imports\n",
    "\n",
    "First, let's import the essential LambdaCat modules:\n"
   ]
  },
  {
   "cell_type": "code",
   "execution_count": null,
   "metadata": {},
   "outputs": [],
   "source": [
    "from LambdaCat.core import obj, arrow, build_presentation\n",
    "from LambdaCat.core.category import Cat\n",
    "from LambdaCat.core.standard import discrete, simplex\n",
    "from LambdaCat.core.laws_category import CATEGORY_SUITE\n",
    "from LambdaCat.core.laws import run_suite\n",
    "\n",
    "print(\"✅ LambdaCat imported successfully!\")\n"
   ]
  },
  {
   "cell_type": "markdown",
   "metadata": {},
   "source": [
    "## 1. What is a Category?\n",
    "\n",
    "A category consists of:\n",
    "- **Objects**: The things we're studying\n",
    "- **Morphisms**: The relationships between objects\n",
    "- **Composition**: How to combine morphisms\n",
    "- **Identity**: Special morphisms from each object to itself\n",
    "\n",
    "Let's start by creating a simple category!\n"
   ]
  },
  {
   "cell_type": "code",
   "execution_count": null,
   "metadata": {},
   "outputs": [],
   "source": [
    "# Create objects\n",
    "A = obj(\"A\")\n",
    "B = obj(\"B\")\n",
    "C = obj(\"C\")\n",
    "\n",
    "print(f\"Objects: {A}, {B}, {C}\")\n",
    "print(f\"Object A name: {A.name}\")\n",
    "print(f\"Object A data: {A.data}\")\n"
   ]
  },
  {
   "cell_type": "markdown",
   "metadata": {},
   "source": [
    "## 2. Creating Morphisms\n",
    "\n",
    "Morphisms (arrows) connect objects. Each morphism has a source and target:\n"
   ]
  },
  {
   "cell_type": "code",
   "execution_count": null,
   "metadata": {},
   "outputs": [],
   "source": [
    "# Create morphisms\n",
    "f = arrow(\"f\", \"A\", \"B\")  # f: A → B\n",
    "g = arrow(\"g\", \"B\", \"C\")  # g: B → C\n",
    "h = arrow(\"h\", \"A\", \"C\")  # h: A → C\n",
    "\n",
    "print(f\"Morphism f: {f.source} → {f.target}\")\n",
    "print(f\"Morphism g: {g.source} → {g.target}\")\n",
    "print(f\"Morphism h: {h.source} → {h.target}\")\n"
   ]
  },
  {
   "cell_type": "markdown",
   "metadata": {},
   "source": [
    "## 3. Building a Category\n",
    "\n",
    "Now let's assemble our objects and morphisms into a category:\n"
   ]
  },
  {
   "cell_type": "code",
   "execution_count": null,
   "metadata": {},
   "outputs": [],
   "source": [
    "# Build the category\n",
    "objects = [A, B, C]\n",
    "morphisms = [f, g, h]\n",
    "\n",
    "presentation = build_presentation(objects, morphisms)\n",
    "print(f\"Presentation created with {len(presentation.objects)} objects and {len(presentation.arrows)} arrows\")\n",
    "\n",
    "# Convert to a full category\n",
    "category = Cat.from_presentation(presentation)\n",
    "print(f\"Category created with {len(category.objects)} objects and {len(category.arrows)} arrows\")"
   ]
  },
  {
   "cell_type": "markdown",
   "metadata": {},
   "source": [
    "## Summary\n",
    "\n",
    "🎉 **Congratulations!** You've completed the Basic Categories tutorial.\n",
    "\n",
    "### What You've Learned:\n",
    "- ✅ Creating objects and morphisms\n",
    "- ✅ Building categories from presentations\n",
    "- ✅ Understanding composition and identity\n",
    "- ✅ Working with prebuilt categories\n",
    "- ✅ Verifying category laws\n",
    "\n",
    "### Key Concepts:\n",
    "- **Objects** are the things we study\n",
    "- **Morphisms** are the relationships between objects\n",
    "- **Composition** combines morphisms\n",
    "- **Identity** morphisms exist for every object\n",
    "- **Categories** must satisfy associativity and identity laws\n",
    "\n",
    "### Next Steps:\n",
    "- Move to **2: Functors and Naturality** to learn about structure-preserving maps\n",
    "- Explore **3: Advanced Features** for more complex category theory concepts\n",
    "- Try building your own categories and experimenting with different structures\n",
    "\n",
    "Ready for the next milestone? Let's go! 🚀\n"
   ]
  }
 ],
 "metadata": {
  "kernelspec": {
   "display_name": ".venv",
   "language": "python",
   "name": "python3"
  },
  "language_info": {
   "codemirror_mode": {
    "name": "ipython",
    "version": 3
   },
   "file_extension": ".py",
   "mimetype": "text/x-python",
   "name": "python",
   "nbconvert_exporter": "python",
   "pygments_lexer": "ipython3",
   "version": "3.12.8"
  }
 },
 "nbformat": 4,
 "nbformat_minor": 4
}
